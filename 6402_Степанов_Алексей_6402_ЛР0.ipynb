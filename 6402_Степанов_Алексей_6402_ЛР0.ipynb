{
  "cells": [
    {
      "cell_type": "markdown",
      "metadata": {
        "id": "82OvPKEiEqjc"
      },
      "source": [
        "# Введение в MapReduce модель на Python\n"
      ]
    },
    {
      "cell_type": "code",
      "execution_count": 48,
      "metadata": {
        "id": "JQ2cvXLjICmI"
      },
      "outputs": [],
      "source": [
        "from typing import NamedTuple # requires python 3.6+\n",
        "from typing import Iterator"
      ]
    },
    {
      "cell_type": "code",
      "execution_count": 49,
      "metadata": {
        "id": "yjPHumVwEyEg"
      },
      "outputs": [],
      "source": [
        "def MAP(_, row:NamedTuple):\n",
        "  if (row.gender == 'female'):\n",
        "    yield (row.age, row)\n",
        "\n",
        "def REDUCE(age:str, rows:Iterator[NamedTuple]):\n",
        "  sum = 0\n",
        "  count = 0\n",
        "  for row in rows:\n",
        "    sum += row.social_contacts\n",
        "    count += 1\n",
        "  if (count > 0):\n",
        "    yield (age, sum/count)\n",
        "  else:\n",
        "    yield (age, 0)"
      ]
    },
    {
      "cell_type": "markdown",
      "metadata": {
        "id": "vBKMgpG_ilaZ"
      },
      "source": [
        "Модель элемента данных"
      ]
    },
    {
      "cell_type": "code",
      "execution_count": 50,
      "metadata": {
        "id": "Rv-XIjhTJPx3"
      },
      "outputs": [],
      "source": [
        "class User(NamedTuple):\n",
        "  id: int\n",
        "  age: str\n",
        "  social_contacts: int\n",
        "  gender: str"
      ]
    },
    {
      "cell_type": "code",
      "execution_count": 51,
      "metadata": {
        "id": "5KV0Ze2vQgu5"
      },
      "outputs": [],
      "source": [
        "input_collection = [\n",
        "    User(id=0, age=55, gender='male', social_contacts=20),\n",
        "    User(id=1, age=25, gender='female', social_contacts=240),\n",
        "    User(id=2, age=25, gender='female', social_contacts=500),\n",
        "    User(id=3, age=33, gender='female', social_contacts=800)\n",
        "]"
      ]
    },
    {
      "cell_type": "markdown",
      "metadata": {
        "id": "YFeqzyZxZIFZ"
      },
      "source": [
        "Функция RECORDREADER моделирует чтение элементов с диска или по сети."
      ]
    },
    {
      "cell_type": "code",
      "execution_count": 52,
      "metadata": {
        "id": "S5HR4E_GQoMJ"
      },
      "outputs": [],
      "source": [
        "def RECORDREADER():\n",
        "  return [(u.id, u) for u in input_collection]"
      ]
    },
    {
      "cell_type": "code",
      "execution_count": 53,
      "metadata": {
        "colab": {
          "base_uri": "https://localhost:8080/"
        },
        "id": "NeEoWla-ROUy",
        "outputId": "1f5744a1-1b84-478c-ef14-aeefba4e79a4"
      },
      "outputs": [
        {
          "data": {
            "text/plain": [
              "[(0, User(id=0, age=55, social_contacts=20, gender='male')),\n",
              " (1, User(id=1, age=25, social_contacts=240, gender='female')),\n",
              " (2, User(id=2, age=25, social_contacts=500, gender='female')),\n",
              " (3, User(id=3, age=33, social_contacts=800, gender='female'))]"
            ]
          },
          "execution_count": 53,
          "metadata": {},
          "output_type": "execute_result"
        }
      ],
      "source": [
        "list(RECORDREADER())"
      ]
    },
    {
      "cell_type": "code",
      "execution_count": 54,
      "metadata": {
        "id": "YB8orgPSZs8M"
      },
      "outputs": [],
      "source": [
        "def flatten(nested_iterable):\n",
        "  for iterable in nested_iterable:\n",
        "    for element in iterable:\n",
        "      yield element"
      ]
    },
    {
      "cell_type": "code",
      "execution_count": 55,
      "metadata": {
        "colab": {
          "base_uri": "https://localhost:8080/"
        },
        "id": "74oyvDLaRmd5",
        "outputId": "37484d78-6040-4780-f485-6bfcf3cc1baa"
      },
      "outputs": [
        {
          "data": {
            "text/plain": [
              "[(25, User(id=1, age=25, social_contacts=240, gender='female')),\n",
              " (25, User(id=2, age=25, social_contacts=500, gender='female')),\n",
              " (33, User(id=3, age=33, social_contacts=800, gender='female'))]"
            ]
          },
          "execution_count": 55,
          "metadata": {},
          "output_type": "execute_result"
        }
      ],
      "source": [
        "map_output = flatten(map(lambda x: MAP(*x), RECORDREADER()))\n",
        "map_output = list(map_output) # materialize\n",
        "map_output"
      ]
    },
    {
      "cell_type": "code",
      "execution_count": 56,
      "metadata": {
        "id": "8ncYDJ3-VzDn"
      },
      "outputs": [],
      "source": [
        "def groupbykey(iterable):\n",
        "  t = {}\n",
        "  for (k2, v2) in iterable:\n",
        "    t[k2] = t.get(k2, []) + [v2]\n",
        "  return t.items()"
      ]
    },
    {
      "cell_type": "code",
      "execution_count": 57,
      "metadata": {
        "colab": {
          "base_uri": "https://localhost:8080/"
        },
        "id": "cKzY_6COWOA2",
        "outputId": "e39af552-b665-47ca-f70b-da74b22b7f10"
      },
      "outputs": [
        {
          "data": {
            "text/plain": [
              "[(25,\n",
              "  [User(id=1, age=25, social_contacts=240, gender='female'),\n",
              "   User(id=2, age=25, social_contacts=500, gender='female')]),\n",
              " (33, [User(id=3, age=33, social_contacts=800, gender='female')])]"
            ]
          },
          "execution_count": 57,
          "metadata": {},
          "output_type": "execute_result"
        }
      ],
      "source": [
        "shuffle_output = groupbykey(map_output)\n",
        "shuffle_output = list(shuffle_output)\n",
        "shuffle_output"
      ]
    },
    {
      "cell_type": "code",
      "execution_count": 58,
      "metadata": {
        "colab": {
          "base_uri": "https://localhost:8080/"
        },
        "id": "NlA7lkDDYL0t",
        "outputId": "e4bad036-f83c-406e-fc4e-eb68796c0bfd"
      },
      "outputs": [
        {
          "data": {
            "text/plain": [
              "[(25, 370.0), (33, 800.0)]"
            ]
          },
          "execution_count": 58,
          "metadata": {},
          "output_type": "execute_result"
        }
      ],
      "source": [
        "reduce_output = flatten(map(lambda x: REDUCE(*x), shuffle_output))\n",
        "reduce_output = list(reduce_output)\n",
        "reduce_output"
      ]
    },
    {
      "cell_type": "markdown",
      "metadata": {
        "id": "xf6qhHEtd6bI"
      },
      "source": [
        "Все действия одним конвейером!"
      ]
    },
    {
      "cell_type": "code",
      "execution_count": 59,
      "metadata": {
        "colab": {
          "base_uri": "https://localhost:8080/"
        },
        "id": "dZaQGYxCdpw5",
        "outputId": "e19af21b-3e14-40ea-ecc9-f5a428321b0f"
      },
      "outputs": [
        {
          "data": {
            "text/plain": [
              "[(25, 370.0), (33, 800.0)]"
            ]
          },
          "execution_count": 59,
          "metadata": {},
          "output_type": "execute_result"
        }
      ],
      "source": [
        "list(flatten(map(lambda x: REDUCE(*x), groupbykey(flatten(map(lambda x: MAP(*x), RECORDREADER()))))))"
      ]
    },
    {
      "cell_type": "markdown",
      "metadata": {
        "id": "Vq3EWRIpwSiJ"
      },
      "source": [
        "# **MapReduce**\n",
        "Выделим общую для всех пользователей часть системы в отдельную функцию высшего порядка. Это наиболее простая модель MapReduce, без учёта распределённого хранения данных.\n",
        "\n",
        "Пользователь для решения своей задачи реализует RECORDREADER, MAP, REDUCE."
      ]
    },
    {
      "cell_type": "code",
      "execution_count": 60,
      "metadata": {
        "id": "V1PZeQMwwVjc"
      },
      "outputs": [],
      "source": [
        "def flatten(nested_iterable):\n",
        "  for iterable in nested_iterable:\n",
        "    for element in iterable:\n",
        "      yield element\n",
        "\n",
        "def groupbykey(iterable):\n",
        "  t = {}\n",
        "  for (k2, v2) in iterable:\n",
        "    t[k2] = t.get(k2, []) + [v2]\n",
        "  return t.items()\n",
        "\n",
        "def MapReduce(RECORDREADER, MAP, REDUCE):\n",
        "  return flatten(map(lambda x: REDUCE(*x), groupbykey(flatten(map(lambda x: MAP(*x), RECORDREADER())))))"
      ]
    },
    {
      "cell_type": "markdown",
      "metadata": {
        "id": "iFIVrimep678"
      },
      "source": [
        "## Спецификация MapReduce\n",
        "\n",
        "\n",
        "\n",
        "```\n",
        "f (k1, v1) -> (k2,v2)*\n",
        "g (k2, v2*) -> (k3,v3)*\n",
        "\n",
        "mapreduce ((k1,v1)*) -> (k3,v3)*\n",
        "groupby ((k2,v2)*) -> (k2,v2*)*\n",
        "flatten (e2**) -> e2*\n",
        "\n",
        "mapreduce .map(f).flatten.groupby(k2).map(g).flatten\n",
        "```\n",
        "\n",
        "\n"
      ]
    },
    {
      "cell_type": "markdown",
      "metadata": {
        "id": "QtTFyqke3KGe"
      },
      "source": [
        "# Примеры"
      ]
    },
    {
      "cell_type": "markdown",
      "metadata": {
        "id": "BNhh5763w5Vn"
      },
      "source": [
        "## SQL"
      ]
    },
    {
      "cell_type": "code",
      "execution_count": 4,
      "metadata": {
        "colab": {
          "base_uri": "https://localhost:8080/",
          "height": 220
        },
        "id": "QkyurnvGxBGk",
        "outputId": "65ed5e05-e077-464e-b5e9-aeb600772b81"
      },
      "outputs": [
        {
          "ename": "NameError",
          "evalue": "name 'MapReduce' is not defined",
          "output_type": "error",
          "traceback": [
            "\u001b[0;31m---------------------------------------------------------------------------\u001b[0m",
            "\u001b[0;31mNameError\u001b[0m                                 Traceback (most recent call last)",
            "\u001b[0;32m<ipython-input-4-9409944b1e65>\u001b[0m in \u001b[0;36m<cell line: 0>\u001b[0;34m()\u001b[0m\n\u001b[1;32m     33\u001b[0m   \u001b[0;32mreturn\u001b[0m \u001b[0;34m[\u001b[0m\u001b[0;34m(\u001b[0m\u001b[0mu\u001b[0m\u001b[0;34m.\u001b[0m\u001b[0mid\u001b[0m\u001b[0;34m,\u001b[0m \u001b[0mu\u001b[0m\u001b[0;34m)\u001b[0m \u001b[0;32mfor\u001b[0m \u001b[0mu\u001b[0m \u001b[0;32min\u001b[0m \u001b[0minput_collection\u001b[0m\u001b[0;34m]\u001b[0m\u001b[0;34m\u001b[0m\u001b[0;34m\u001b[0m\u001b[0m\n\u001b[1;32m     34\u001b[0m \u001b[0;34m\u001b[0m\u001b[0m\n\u001b[0;32m---> 35\u001b[0;31m \u001b[0moutput\u001b[0m \u001b[0;34m=\u001b[0m \u001b[0mMapReduce\u001b[0m\u001b[0;34m(\u001b[0m\u001b[0mRECORDREADER\u001b[0m\u001b[0;34m,\u001b[0m \u001b[0mMAP\u001b[0m\u001b[0;34m,\u001b[0m \u001b[0mREDUCE\u001b[0m\u001b[0;34m)\u001b[0m\u001b[0;34m\u001b[0m\u001b[0;34m\u001b[0m\u001b[0m\n\u001b[0m\u001b[1;32m     36\u001b[0m \u001b[0moutput\u001b[0m \u001b[0;34m=\u001b[0m \u001b[0mlist\u001b[0m\u001b[0;34m(\u001b[0m\u001b[0moutput\u001b[0m\u001b[0;34m)\u001b[0m\u001b[0;34m\u001b[0m\u001b[0;34m\u001b[0m\u001b[0m\n\u001b[1;32m     37\u001b[0m \u001b[0moutput\u001b[0m\u001b[0;34m\u001b[0m\u001b[0;34m\u001b[0m\u001b[0m\n",
            "\u001b[0;31mNameError\u001b[0m: name 'MapReduce' is not defined"
          ]
        }
      ],
      "source": [
        "from typing import NamedTuple # requires python 3.6+\n",
        "from typing import Iterator\n",
        "\n",
        "class User(NamedTuple):\n",
        "  id: int\n",
        "  age: str\n",
        "  social_contacts: int\n",
        "  gender: str\n",
        "\n",
        "input_collection = [\n",
        "    User(id=0, age=55, gender='male', social_contacts=20),\n",
        "    User(id=1, age=25, gender='female', social_contacts=240),\n",
        "    User(id=2, age=25, gender='female', social_contacts=500),\n",
        "    User(id=3, age=33, gender='female', social_contacts=800)\n",
        "]\n",
        "\n",
        "def MAP(_, row:NamedTuple):\n",
        "  if (row.gender == 'female'):\n",
        "    yield (row.age, row)\n",
        "\n",
        "def REDUCE(age:str, rows:Iterator[NamedTuple]):\n",
        "  sum = 0\n",
        "  count = 0\n",
        "  for row in rows:\n",
        "    sum += row.social_contacts\n",
        "    count += 1\n",
        "  if (count > 0):\n",
        "    yield (age, sum/count)\n",
        "  else:\n",
        "    yield (age, 0)\n",
        "\n",
        "def RECORDREADER():\n",
        "  return [(u.id, u) for u in input_collection]\n",
        "\n",
        "output = MapReduce(RECORDREADER, MAP, REDUCE)\n",
        "output = list(output)\n",
        "output"
      ]
    },
    {
      "cell_type": "markdown",
      "metadata": {
        "id": "kNKYIeerx0nY"
      },
      "source": [
        "## Matrix-Vector multiplication"
      ]
    },
    {
      "cell_type": "code",
      "execution_count": null,
      "metadata": {
        "id": "rwcntRcCyi1V"
      },
      "outputs": [],
      "source": [
        "from typing import Iterator\n",
        "import numpy as np\n",
        "\n",
        "mat = np.ones((5,4))\n",
        "vec = np.random.rand(4) # in-memory vector in all map tasks\n",
        "\n",
        "def MAP(coordinates:(int, int), value:int):\n",
        "  i, j = coordinates\n",
        "  yield (i, value*vec[j])\n",
        "\n",
        "def REDUCE(i:int, products:Iterator[NamedTuple]):\n",
        "  sum = 0\n",
        "  for p in products:\n",
        "    sum += p\n",
        "  yield (i, sum)\n",
        "\n",
        "def RECORDREADER():\n",
        "  for i in range(mat.shape[0]):\n",
        "    for j in range(mat.shape[1]):\n",
        "      yield ((i, j), mat[i,j])\n",
        "\n",
        "output = MapReduce(RECORDREADER, MAP, REDUCE)\n",
        "output = list(output)\n",
        "output"
      ]
    },
    {
      "cell_type": "markdown",
      "metadata": {
        "id": "ruZREYdi2o4O"
      },
      "source": [
        "## Inverted index"
      ]
    },
    {
      "cell_type": "code",
      "execution_count": null,
      "metadata": {
        "id": "vt9H9Alf3TYv"
      },
      "outputs": [],
      "source": [
        "from typing import Iterator\n",
        "\n",
        "d1 = \"it is what it is\"\n",
        "d2 = \"what is it\"\n",
        "d3 = \"it is a banana\"\n",
        "documents = [d1, d2, d3]\n",
        "\n",
        "def RECORDREADER():\n",
        "  for (docid, document) in enumerate(documents):\n",
        "    yield (\"{}\".format(docid), document)\n",
        "\n",
        "def MAP(docId:str, body:str):\n",
        "  for word in set(body.split(' ')):\n",
        "    yield (word, docId)\n",
        "\n",
        "def REDUCE(word:str, docIds:Iterator[str]):\n",
        "  yield (word, sorted(docIds))\n",
        "\n",
        "output = MapReduce(RECORDREADER, MAP, REDUCE)\n",
        "output = list(output)\n",
        "output"
      ]
    },
    {
      "cell_type": "markdown",
      "metadata": {
        "id": "R7az-6DA6qr2"
      },
      "source": [
        "## WordCount"
      ]
    },
    {
      "cell_type": "code",
      "execution_count": null,
      "metadata": {
        "id": "dN-nbtgG6uYG"
      },
      "outputs": [],
      "source": [
        "from typing import Iterator\n",
        "\n",
        "d1 = \"\"\"\n",
        "it is what it is\n",
        "it is what it is\n",
        "it is what it is\"\"\"\n",
        "d2 = \"\"\"\n",
        "what is it\n",
        "what is it\"\"\"\n",
        "d3 = \"\"\"\n",
        "it is a banana\"\"\"\n",
        "documents = [d1, d2, d3]\n",
        "\n",
        "def RECORDREADER():\n",
        "  for (docid, document) in enumerate(documents):\n",
        "    for (lineid, line) in enumerate(document.split('\\n')):\n",
        "      yield (\"{}:{}\".format(docid,lineid), line)\n",
        "\n",
        "def MAP(docId:str, line:str):\n",
        "  for word in line.split(\" \"):\n",
        "    yield (word, 1)\n",
        "\n",
        "def REDUCE(word:str, counts:Iterator[int]):\n",
        "  sum = 0\n",
        "  for c in counts:\n",
        "    sum += c\n",
        "  yield (word, sum)\n",
        "\n",
        "output = MapReduce(RECORDREADER, MAP, REDUCE)\n",
        "output = list(output)\n",
        "output"
      ]
    },
    {
      "cell_type": "markdown",
      "metadata": {
        "id": "h-jRAcYCAkkk"
      },
      "source": [
        "# MapReduce Distributed\n",
        "\n",
        "Добавляется в модель фабрика RECORDREARER-ов --- INPUTFORMAT, функция распределения промежуточных результатов по партициям PARTITIONER, и функция COMBINER для частичной аггрегации промежуточных результатов до распределения по новым партициям."
      ]
    },
    {
      "cell_type": "code",
      "execution_count": 61,
      "metadata": {
        "id": "nw-b-xJsApgW"
      },
      "outputs": [],
      "source": [
        "def flatten(nested_iterable):\n",
        "  for iterable in nested_iterable:\n",
        "    for element in iterable:\n",
        "      yield element\n",
        "\n",
        "def groupbykey(iterable):\n",
        "  t = {}\n",
        "  for (k2, v2) in iterable:\n",
        "    t[k2] = t.get(k2, []) + [v2]\n",
        "  return t.items()\n",
        "\n",
        "def groupbykey_distributed(map_partitions, PARTITIONER):\n",
        "  global reducers\n",
        "  partitions = [dict() for _ in range(reducers)]\n",
        "  for map_partition in map_partitions:\n",
        "    for (k2, v2) in map_partition:\n",
        "      p = partitions[PARTITIONER(k2)]\n",
        "      p[k2] = p.get(k2, []) + [v2]\n",
        "  return [(partition_id, sorted(partition.items(), key=lambda x: x[0])) for (partition_id, partition) in enumerate(partitions)]\n",
        "\n",
        "def PARTITIONER(obj):\n",
        "  global reducers\n",
        "  return hash(obj) % reducers\n",
        "\n",
        "def MapReduceDistributed(INPUTFORMAT, MAP, REDUCE, PARTITIONER=PARTITIONER, COMBINER=None):\n",
        "  map_partitions = map(lambda record_reader: flatten(map(lambda k1v1: MAP(*k1v1), record_reader)), INPUTFORMAT())\n",
        "  if COMBINER != None:\n",
        "    map_partitions = map(lambda map_partition: flatten(map(lambda k2v2: COMBINER(*k2v2), groupbykey(map_partition))), map_partitions)\n",
        "  reduce_partitions = groupbykey_distributed(map_partitions, PARTITIONER) # shuffle\n",
        "  reduce_outputs = map(lambda reduce_partition: (reduce_partition[0], flatten(map(lambda reduce_input_group: REDUCE(*reduce_input_group), reduce_partition[1]))), reduce_partitions)\n",
        "\n",
        "  print(\"{} key-value pairs were sent over a network.\".format(sum([len(vs) for (k,vs) in flatten([partition for (partition_id, partition) in reduce_partitions])])))\n",
        "  return reduce_outputs"
      ]
    },
    {
      "cell_type": "markdown",
      "metadata": {
        "id": "kxirlf3XqZxY"
      },
      "source": [
        "## Спецификация MapReduce Distributed\n",
        "\n",
        "\n",
        "```\n",
        "f (k1, v1) -> (k2,v2)*\n",
        "g (k2, v2*) -> (k3,v3)*\n",
        "\n",
        "e1 (k1, v1)\n",
        "e2 (k2, v2)\n",
        "partition1 (k2, v2)*\n",
        "partition2 (k2, v2*)*\n",
        "\n",
        "flatmap (e1->e2*, e1*) -> partition1*\n",
        "groupby (partition1*) -> partition2*\n",
        "\n",
        "mapreduce ((k1,v1)*) -> (k3,v3)*\n",
        "mapreduce .flatmap(f).groupby(k2).flatmap(g)\n",
        "```\n",
        "\n"
      ]
    },
    {
      "cell_type": "markdown",
      "metadata": {
        "id": "CWYw_CpbbY3C"
      },
      "source": [
        "## WordCount"
      ]
    },
    {
      "cell_type": "code",
      "execution_count": 62,
      "metadata": {
        "colab": {
          "base_uri": "https://localhost:8080/"
        },
        "id": "uR_zfGFkMZlp",
        "outputId": "cba51663-ddf9-4953-f047-2c8d698ba91e"
      },
      "outputs": [
        {
          "name": "stdout",
          "output_type": "stream",
          "text": [
            "56 key-value pairs were sent over a network.\n"
          ]
        },
        {
          "data": {
            "text/plain": [
              "[(0, [('', 6), ('banana', 2), ('is', 18), ('it', 18)]),\n",
              " (1, [('a', 2), ('what', 10)])]"
            ]
          },
          "execution_count": 62,
          "metadata": {},
          "output_type": "execute_result"
        }
      ],
      "source": [
        "from typing import Iterator\n",
        "import numpy as np\n",
        "\n",
        "d1 = \"\"\"\n",
        "it is what it is\n",
        "it is what it is\n",
        "it is what it is\"\"\"\n",
        "d2 = \"\"\"\n",
        "what is it\n",
        "what is it\"\"\"\n",
        "d3 = \"\"\"\n",
        "it is a banana\"\"\"\n",
        "documents = [d1, d2, d3, d1, d2, d3]\n",
        "\n",
        "maps = 3\n",
        "reducers = 2\n",
        "\n",
        "def INPUTFORMAT():\n",
        "  global maps\n",
        "\n",
        "  def RECORDREADER(split):\n",
        "    for (docid, document) in enumerate(split):\n",
        "      for (lineid, line) in enumerate(document.split('\\n')):\n",
        "        yield (\"{}:{}\".format(docid,lineid), line)\n",
        "\n",
        "  split_size =  int(np.ceil(len(documents)/maps))\n",
        "  for i in range(0, len(documents), split_size):\n",
        "    yield RECORDREADER(documents[i:i+split_size])\n",
        "\n",
        "def MAP(docId:str, line:str):\n",
        "  for word in line.split(\" \"):\n",
        "    yield (word, 1)\n",
        "\n",
        "def REDUCE(word:str, counts:Iterator[int]):\n",
        "  sum = 0\n",
        "  for c in counts:\n",
        "    sum += c\n",
        "  yield (word, sum)\n",
        "\n",
        "# try to set COMBINER=REDUCER and look at the number of values sent over the network\n",
        "partitioned_output = MapReduceDistributed(INPUTFORMAT, MAP, REDUCE, COMBINER=None)\n",
        "partitioned_output = [(partition_id, list(partition)) for (partition_id, partition) in partitioned_output]\n",
        "partitioned_output"
      ]
    },
    {
      "cell_type": "markdown",
      "metadata": {
        "id": "gCJGx8IQ87xS"
      },
      "source": [
        "## TeraSort"
      ]
    },
    {
      "cell_type": "code",
      "execution_count": 63,
      "metadata": {
        "colab": {
          "base_uri": "https://localhost:8080/"
        },
        "id": "P2v8v1v_8_YR",
        "outputId": "ad333aa1-99d7-4dde-867c-f79b751b34be"
      },
      "outputs": [
        {
          "name": "stdout",
          "output_type": "stream",
          "text": [
            "30 key-value pairs were sent over a network.\n"
          ]
        },
        {
          "data": {
            "text/plain": [
              "[(0,\n",
              "  [(None, 0.028133559580729384),\n",
              "   (None, 0.09025289233963807),\n",
              "   (None, 0.12438930448150842),\n",
              "   (None, 0.1617237910066578),\n",
              "   (None, 0.21446275627401656),\n",
              "   (None, 0.2553431575210646),\n",
              "   (None, 0.25644520433055773),\n",
              "   (None, 0.2659223878267921),\n",
              "   (None, 0.280137399137223),\n",
              "   (None, 0.30153159801758944),\n",
              "   (None, 0.3816045814017959),\n",
              "   (None, 0.4141810556445422),\n",
              "   (None, 0.42429844878478584),\n",
              "   (None, 0.4933592975783354)]),\n",
              " (1,\n",
              "  [(None, 0.5293027082813384),\n",
              "   (None, 0.5920048802709277),\n",
              "   (None, 0.5989743538130635),\n",
              "   (None, 0.6127018384718558),\n",
              "   (None, 0.623020203116356),\n",
              "   (None, 0.6376999274910841),\n",
              "   (None, 0.6678618208980652),\n",
              "   (None, 0.7262232089021787),\n",
              "   (None, 0.7378522048892291),\n",
              "   (None, 0.7610477670975955),\n",
              "   (None, 0.7633752506177925),\n",
              "   (None, 0.7649883686324094),\n",
              "   (None, 0.785784451838158),\n",
              "   (None, 0.794854450921251),\n",
              "   (None, 0.8183856159741131),\n",
              "   (None, 0.9883467798075342)])]"
            ]
          },
          "execution_count": 63,
          "metadata": {},
          "output_type": "execute_result"
        }
      ],
      "source": [
        "import numpy as np\n",
        "\n",
        "input_values = np.random.rand(30)\n",
        "maps = 3\n",
        "reducers = 2\n",
        "min_value = 0.0\n",
        "max_value = 1.0\n",
        "\n",
        "def INPUTFORMAT():\n",
        "  global maps\n",
        "\n",
        "  def RECORDREADER(split):\n",
        "    for value in split:\n",
        "        yield (value, None)\n",
        "\n",
        "  split_size =  int(np.ceil(len(input_values)/maps))\n",
        "  for i in range(0, len(input_values), split_size):\n",
        "    yield RECORDREADER(input_values[i:i+split_size])\n",
        "\n",
        "def MAP(value:int, _):\n",
        "  yield (value, None)\n",
        "\n",
        "def PARTITIONER(key):\n",
        "  global reducers\n",
        "  global max_value\n",
        "  global min_value\n",
        "  bucket_size = (max_value-min_value)/reducers\n",
        "  bucket_id = 0\n",
        "  while((key>(bucket_id+1)*bucket_size) and ((bucket_id+1)*bucket_size<max_value)):\n",
        "    bucket_id += 1\n",
        "  return bucket_id\n",
        "\n",
        "def REDUCE(value:int, _):\n",
        "  yield (None,value)\n",
        "\n",
        "partitioned_output = MapReduceDistributed(INPUTFORMAT, MAP, REDUCE, COMBINER=None, PARTITIONER=PARTITIONER)\n",
        "partitioned_output = [(partition_id, list(partition)) for (partition_id, partition) in partitioned_output]\n",
        "partitioned_output"
      ]
    },
    {
      "cell_type": "code",
      "execution_count": null,
      "metadata": {
        "id": "MQhoJaVZI93G"
      },
      "outputs": [],
      "source": []
    },
    {
      "cell_type": "markdown",
      "metadata": {
        "id": "Iy65YJTH99iT"
      },
      "source": [
        "# Упражнения\n",
        "Упражнения взяты из Rajaraman A., Ullman J. D. Mining of massive datasets. – Cambridge University Press, 2011.\n",
        "\n",
        "\n",
        "Для выполнения заданий переопределите функции RECORDREADER, MAP, REDUCE. Для модели распределённой системы может потребоваться переопределение функций PARTITION и COMBINER."
      ]
    },
    {
      "cell_type": "markdown",
      "metadata": {
        "id": "cfvAeZm3S8S8"
      },
      "source": [
        "### Максимальное значение ряда\n",
        "\n",
        "Разработайте MapReduce алгоритм, который находит максимальное число входного списка чисел."
      ]
    },
    {
      "cell_type": "code",
      "execution_count": 65,
      "metadata": {
        "colab": {
          "base_uri": "https://localhost:8080/"
        },
        "id": "3GRA1JR-Tkbg",
        "outputId": "68106900-2cc1-4374-a2c2-172dd48fb2cc"
      },
      "outputs": [
        {
          "name": "stdout",
          "output_type": "stream",
          "text": [
            "Исходные данные: [41, 89, 96, 67, 91]\n",
            "Максимум: 96\n"
          ]
        }
      ],
      "source": [
        "import random\n",
        "from functools import reduce\n",
        "\n",
        "def RECORDREADER(count):\n",
        "    return [random.randint(0, 100) for _ in range(count)]\n",
        "\n",
        "def MAP(value):\n",
        "    yield (value, value)\n",
        "\n",
        "def REDUCE(max1, max2):\n",
        "    return max(max1, max2)\n",
        "\n",
        "record = RECORDREADER(5)\n",
        "print(\"Исходные данные:\", record)\n",
        "\n",
        "mapped_values = []\n",
        "for value in record:\n",
        "    for k, v in MAP(value):\n",
        "        mapped_values.append(v)\n",
        "\n",
        "result = reduce(REDUCE, mapped_values)\n",
        "\n",
        "print(\"Максимум:\", result)"
      ]
    },
    {
      "cell_type": "markdown",
      "metadata": {
        "id": "k86bXnqZTk-U"
      },
      "source": [
        "### Арифметическое среднее\n",
        "\n",
        "Разработайте MapReduce алгоритм, который находит арифметическое среднее.\n",
        "\n",
        "$$\\overline{X} = \\frac{1}{n}\\sum_{i=0}^{n} x_i$$\n"
      ]
    },
    {
      "cell_type": "code",
      "execution_count": 67,
      "metadata": {
        "colab": {
          "base_uri": "https://localhost:8080/"
        },
        "id": "MPoY5pkfUNZf",
        "outputId": "2c1ca453-824e-4623-91be-ad4d5f78bee1"
      },
      "outputs": [
        {
          "name": "stdout",
          "output_type": "stream",
          "text": [
            "Данные: [('all', 14), ('all', 67), ('all', 9), ('all', 59), ('all', 40)]\n",
            "Среднее арифметическое: 37.8\n"
          ]
        }
      ],
      "source": [
        "import random\n",
        "from typing import Iterator, Tuple\n",
        "\n",
        "def MAP(num):\n",
        "    yield (\"all\", num)\n",
        "\n",
        "def REDUCE(key, nums: Iterator[Tuple[str, int]]):\n",
        "    sum = 0\n",
        "    count = 0\n",
        "    for _, n in nums:\n",
        "        sum += n\n",
        "        count += 1\n",
        "    yield (key, sum / count)\n",
        "\n",
        "def RECORDREADER(count):\n",
        "    return [random.randint(0, 100) for _ in range(count)]\n",
        "\n",
        "record = RECORDREADER(5)\n",
        "\n",
        "map_output = []\n",
        "for num in record:\n",
        "    for k, v in MAP(num):\n",
        "        map_output.append((k, v))\n",
        "\n",
        "print(\"Данные:\", map_output)\n",
        "\n",
        "grouped_data = {}\n",
        "for k, v in map_output:\n",
        "    if k not in grouped_data:\n",
        "        grouped_data[k] = []\n",
        "    grouped_data[k].append((k, v))\n",
        "\n",
        "reduce_output = []\n",
        "for key, values in grouped_data.items():\n",
        "    for result in REDUCE(key, values):\n",
        "        reduce_output.append(result)\n",
        "\n",
        "print(\"Среднее арифметическое:\", reduce_output[0][1])"
      ]
    },
    {
      "cell_type": "markdown",
      "metadata": {
        "id": "xanzszhsIlLe"
      },
      "source": [
        "### GroupByKey на основе сортировки\n",
        "\n",
        "Реализуйте groupByKey на основе сортировки, проверьте его работу на примерах"
      ]
    },
    {
      "cell_type": "code",
      "execution_count": 80,
      "metadata": {
        "colab": {
          "base_uri": "https://localhost:8080/"
        },
        "id": "hQPn3USsIkEC",
        "outputId": "2cd2f516-edcb-41bf-da01-aa2e250a18d3"
      },
      "outputs": [
        {
          "name": "stdout",
          "output_type": "stream",
          "text": [
            "MAP: [(1, 93), (1, 62), (1, 3), (1, 47), (1, 50), (1, 85), (1, 78), (1, 26), (1, 95), (1, 41)]\n",
            "Shuffle: [(1, [93, 62, 3, 47, 50, 85, 78, 26, 95, 41])]\n",
            "Reduce: [58.0]\n"
          ]
        }
      ],
      "source": [
        "import random\n",
        "from typing import Iterator, NamedTuple, List, Tuple\n",
        "\n",
        "def MAP(num):\n",
        "    return (1, num)\n",
        "\n",
        "def REDUCE(key, nums: Iterator[int]):\n",
        "    sum = 0\n",
        "    count = 0\n",
        "    for n in nums:\n",
        "        sum += n\n",
        "        count += 1\n",
        "    yield sum / count\n",
        "\n",
        "def RECORDREADER(count):\n",
        "    return [random.randint(0, 100) for _ in range(count)]\n",
        "\n",
        "def group_by_key(iterable: List[Tuple[int, int]]):\n",
        "    grouped_data = {}\n",
        "    for key, value in sorted(iterable, key=lambda x: x[0]):\n",
        "        grouped_data.setdefault(key, []).append(value)\n",
        "    return list(grouped_data.items())\n",
        "\n",
        "map_out = list(map(lambda x: MAP(x), RECORDREADER(10)))\n",
        "print(\"MAP:\", map_out)\n",
        "\n",
        "shuffle_out = group_by_key(map_out)\n",
        "print(\"Shuffle:\", shuffle_out)\n",
        "\n",
        "reduce_output = list(flatten(map(lambda x: REDUCE(*x), shuffle_out)))\n",
        "print(\"Reduce:\", reduce_output)"
      ]
    },
    {
      "cell_type": "markdown",
      "metadata": {
        "id": "5SgEjCZyGnu6"
      },
      "source": [
        "### Drop duplicates (set construction, unique elements, distinct)\n",
        "\n",
        "Реализуйте распределённую операцию исключения дубликатов"
      ]
    },
    {
      "cell_type": "code",
      "execution_count": 100,
      "metadata": {
        "colab": {
          "base_uri": "https://localhost:8080/"
        },
        "id": "okjbyApjGhMt",
        "outputId": "0588438d-e338-40c9-abc9-0da80ea7bbc2"
      },
      "outputs": [
        {
          "data": {
            "text/plain": [
              "[(0, ['alexey', 'hello', 'is', 'it', 'me', 'who']), (1, ['a'])]"
            ]
          },
          "execution_count": 100,
          "metadata": {},
          "output_type": "execute_result"
        }
      ],
      "source": [
        "def flatten(nested_iterable):\n",
        "    for iterable in nested_iterable:\n",
        "        for element in iterable:\n",
        "            yield element\n",
        "\n",
        "def groupbykey(iterable):\n",
        "    grouped_data = {}\n",
        "    for key, value in iterable:\n",
        "        grouped_data.setdefault(key, []).append(value)\n",
        "    return list(grouped_data.items())\n",
        "\n",
        "def groupbykey_distributed(map_partitions, PARTITIONER):\n",
        "    global reducers\n",
        "    partitions = [dict() for _ in range(reducers)]\n",
        "    for map_partition in map_partitions:\n",
        "        for key, value in map_partition:\n",
        "            p = partitions[PARTITIONER(key)]\n",
        "            p.setdefault(key, []).append(value)\n",
        "    return [(partition_id, sorted(partition.items(), key=lambda x: x[0])) for (partition_id, partition) in enumerate(partitions)]\n",
        "\n",
        "def PARTITIONER(obj):\n",
        "    global reducers\n",
        "    return hash(obj) % reducers\n",
        "\n",
        "def MapReduceDistributed(INPUTFORMAT, MAP, REDUCE, PARTITIONER=PARTITIONER, COMBINER=None):\n",
        "    map_partitions = map(lambda record_reader: flatten(map(lambda k1v1: MAP(*k1v1), record_reader)), INPUTFORMAT())\n",
        "    if COMBINER is not None:\n",
        "        map_partitions = map(lambda map_partition: flatten(map(lambda k2v2: COMBINER(*k2v2), groupbykey(map_partition))), map_partitions)\n",
        "\n",
        "    reduce_partitions = groupbykey_distributed(map_partitions, PARTITIONER)\n",
        "\n",
        "    reduce_outputs = map(lambda reduce_partition: (reduce_partition[0], flatten(map(lambda reduce_input_group: REDUCE(*reduce_input_group),\n",
        "                                                                                    reduce_partition[1]))), reduce_partitions)\n",
        "    return reduce_outputs\n",
        "d1 = \"\"\"\n",
        "hello it is me\n",
        "hello it is me\n",
        "hello it is me\"\"\"\n",
        "d2 = \"\"\"\n",
        "hello it is who\n",
        "hello it is who\"\"\"\n",
        "d3 = \"\"\"\n",
        "it is a alexey\"\"\"\n",
        "documents = [d1, d2, d3, d1, d2, d3]\n",
        "\n",
        "maps = 3\n",
        "reducers = 2\n",
        "\n",
        "def INPUTFORMAT():\n",
        "    global maps\n",
        "\n",
        "    def RECORDREADER(split):\n",
        "        for (docid, document) in enumerate(split):\n",
        "            for (lineid, line) in enumerate(document.split('\\n')):\n",
        "                if line.strip():\n",
        "                    yield (\"{}:{}\".format(docid, lineid), line)\n",
        "\n",
        "    split_size = int(np.ceil(len(documents) / maps))\n",
        "    for i in range(0, len(documents), split_size):\n",
        "        yield RECORDREADER(documents[i:i + split_size])\n",
        "\n",
        "def MAP(docId: str, line: str):\n",
        "    for word in line.split(\" \"):\n",
        "        if word.strip():\n",
        "            yield (word, None)\n",
        "\n",
        "def REDUCE(key: str, values: Iterator[str]):\n",
        "    yield key\n",
        "\n",
        "def COMBINER(key, values):\n",
        "    yield (key, None)\n",
        "\n",
        "partitioned_output = MapReduceDistributed(INPUTFORMAT, MAP, REDUCE, COMBINER=COMBINER)\n",
        "partitioned_output = [(partition_id, list(partition)) for (partition_id, partition) in partitioned_output]\n",
        "partitioned_output"
      ]
    },
    {
      "cell_type": "markdown",
      "metadata": {
        "id": "e7sRGoTXuJze"
      },
      "source": [
        "#Операторы реляционной алгебры\n",
        "### Selection (Выборка)\n",
        "\n",
        "**The Map Function**: Для  каждого кортежа $t \\in R$ вычисляется истинность предиката $C$. В случае истины создаётся пара ключ-значение $(t, t)$. В паре ключ и значение одинаковы, равны $t$.\n",
        "\n",
        "**The Reduce Function:** Роль функции Reduce выполняет функция идентичности, которая возвращает то же значение, что получила на вход.\n",
        "\n"
      ]
    },
    {
      "cell_type": "code",
      "execution_count": 105,
      "metadata": {
        "colab": {
          "base_uri": "https://localhost:8080/"
        },
        "id": "4nKIKe59uIfc",
        "outputId": "277dc3fa-ebd2-4cb3-ae53-3a174c59403e"
      },
      "outputs": [
        {
          "name": "stdout",
          "output_type": "stream",
          "text": [
            "[(0, 24, 2), (78, 45, 71), (10, 16, 33), (77, 13, 62), (62, 1, 59)]\n",
            "[[(0, 24, 2), (78, 45, 71), (10, 16, 33), (77, 13, 62), (62, 1, 59)]]\n",
            "[dict_items([((0, 24, 2), [(0, 24, 2)]), ((78, 45, 71), [(78, 45, 71)]), ((10, 16, 33), [(10, 16, 33)]), ((62, 1, 59), [(62, 1, 59)])])]\n",
            "[((0, 24, 2), [(0, 24, 2)]), ((78, 45, 71), [(78, 45, 71)]), ((10, 16, 33), [(10, 16, 33)]), ((62, 1, 59), [(62, 1, 59)])]\n"
          ]
        }
      ],
      "source": [
        "from collections import defaultdict\n",
        "import random\n",
        "def MAP(el_list):\n",
        "    mapped_result = defaultdict(list)\n",
        "    for t in el_list:\n",
        "        if C(t):\n",
        "            mapped_result[t].append(t)\n",
        "    return mapped_result.items()\n",
        "def REDUCE(mapped_items):\n",
        "    reduced_result = []\n",
        "    print(mapped_items)\n",
        "    for values in mapped_items:\n",
        "        for value in values:\n",
        "            reduced_result.append(value)\n",
        "    return reduced_result\n",
        "def C(t):\n",
        "    return t[0] % 2 == 0\n",
        "def RECORDREADER(count):\n",
        "    return [(random.randint(0, 100), random.randint(0, 100), random.randint(0, 100)) for _ in range(count)]\n",
        "record = RECORDREADER(5)\n",
        "print(record)\n",
        "part_count = 5\n",
        "record_partitioned = [record[d:d + part_count] for d in range(0, len(record), part_count)]\n",
        "print(record_partitioned)\n",
        "print(REDUCE(list(map(lambda x: MAP(x), record_partitioned))))"
      ]
    },
    {
      "cell_type": "markdown",
      "metadata": {
        "id": "w27Ca-_Ku85V"
      },
      "source": [
        "### Projection (Проекция)\n",
        "\n",
        "Проекция на множество атрибутов $S$.\n",
        "\n",
        "**The Map Function:** Для каждого кортежа $t \\in R$ создайте кортеж $t′$, исключая  из $t$ те значения, атрибуты которых не принадлежат  $S$. Верните пару $(t′, t′)$.\n",
        "\n",
        "**The Reduce Function:** Для каждого ключа $t′$, созданного любой Map задачей, вы получаете одну или несколько пар $(t′, t′)$. Reduce функция преобразует $(t′, [t′, t′, . . . , t′])$ в $(t′, t′)$, так, что для ключа $t′$ возвращается одна пара  $(t′, t′)$."
      ]
    },
    {
      "cell_type": "code",
      "execution_count": 110,
      "metadata": {
        "colab": {
          "base_uri": "https://localhost:8080/"
        },
        "id": "BEvuY4GqvhS6",
        "outputId": "3ded40e6-7ad4-4004-fe52-f5c253ce8ada"
      },
      "outputs": [
        {
          "name": "stdout",
          "output_type": "stream",
          "text": [
            "[(37, 45, 63), (8, 41, 67), (98, 29, 4), (65, 47, 10), (18, 18, 92)]\n",
            "MAP: [((), ()), ((), ()), ((), ()), ((), ()), ((), ()), ((), ()), ((), ()), ((), ()), ((), ()), ((), ()), ((), ()), ((), ()), ((), ()), ((), ()), ((), ()), ((), ()), ((63,), (63,)), ((), ()), ((), ()), ((), ()), ((), ()), ((), ()), ((), ()), ((), ()), ((), ()), ((), ()), ((), ()), ((), ()), ((), ()), ((), ()), ((), ()), ((), ()), ((), ()), ((), ()), ((), ()), ((), ()), ((), ()), ((), ()), ((), ()), ((), ()), ((), ()), ((), ()), ((), ()), ((), ()), ((), ()), ((), ()), ((), ()), ((), ()), ((), ()), ((), ()), ((), ()), ((), ()), ((), ()), ((), ()), ((), ()), ((), ()), ((), ()), ((), ()), ((), ()), ((), ()), ((), ()), ((63,), (63,)), ((), ()), ((), ()), ((), ()), ((63,), (63,)), ((), ()), ((), ()), ((), ()), ((63,), (63,)), ((), ()), ((), ()), ((), ()), ((), ()), ((), ()), ((), ()), ((), ()), ((), ()), ((), ()), ((), ()), ((), ()), ((), ()), ((), ()), ((), ()), ((), ()), ((), ()), ((), ()), ((), ()), ((), ()), ((), ()), ((), ()), ((), ()), ((), ()), ((), ()), ((), ()), ((), ()), ((), ()), ((), ()), ((), ()), ((), ())]\n",
            "Shuffle: [((), [(), (), (), (), (), (), (), (), (), (), (), (), (), (), (), (), (), (), (), (), (), (), (), (), (), (), (), (), (), (), (), (), (), (), (), (), (), (), (), (), (), (), (), (), (), (), (), (), (), (), (), (), (), (), (), (), (), (), (), (), (), (), (), (), (), (), (), (), (), (), (), (), (), (), (), (), (), (), (), (), (), (), (), (), (), (), (), (), (), (), (), (), (), (), (), ()]), ((63,), [(63,), (63,), (63,), (63,)])]\n",
            "Reduce: [(), (63,)]\n"
          ]
        }
      ],
      "source": [
        "S = set([148, 66, 63])\n",
        "\n",
        "def MAP(t):\n",
        "    res_list = []\n",
        "    for el in t:\n",
        "        if el in S:\n",
        "            res_list.append(el)\n",
        "    res = tuple(res_list)\n",
        "    return (res, res)\n",
        "\n",
        "def REDUCE(key, values: Iterator[NamedTuple]):\n",
        "    return (key, key)\n",
        "\n",
        "def RECORDREADER(count):\n",
        "    return [(random.randint(0, 100), random.randint(0, 100), random.randint(0, 100)) for i in range(count)]\n",
        "\n",
        "def group_by_key(iterable):\n",
        "    t = {}\n",
        "    for (k2, v2) in iterable:\n",
        "        t[k2] = t.get(k2, []) + [v2]\n",
        "    return t.items()\n",
        "\n",
        "record = RECORDREADER(5)\n",
        "print(record)\n",
        "\n",
        "map_output = list(map(lambda x: MAP(x), RECORDREADER(100)))\n",
        "print(\"MAP:\", map_output)\n",
        "\n",
        "shuffle_output = group_by_key(map_output)\n",
        "shuffle_output = list(shuffle_output)\n",
        "\n",
        "print(\"Shuffle:\", shuffle_output)\n",
        "\n",
        "reduce_output = list(map(lambda x: REDUCE(*x)[0], shuffle_output))\n",
        "print(\"Reduce:\", reduce_output)"
      ]
    },
    {
      "cell_type": "markdown",
      "metadata": {
        "id": "7gau6lKXvn2R"
      },
      "source": [
        "### Union (Объединение)\n",
        "\n",
        "**The Map Function:** Превратите каждый входной кортеж $t$ в пару ключ-значение $(t, t)$.\n",
        "\n",
        "**The Reduce Function:** С каждым ключом $t$ будет ассоциировано одно или два значений. В обоих случаях создайте $(t, t)$ в качестве выходного значения."
      ]
    },
    {
      "cell_type": "code",
      "execution_count": 114,
      "metadata": {
        "colab": {
          "base_uri": "https://localhost:8080/"
        },
        "id": "Sns7a5agv3nw",
        "outputId": "98acfa9a-aac9-4ccc-fb69-8ede9875bc59"
      },
      "outputs": [
        {
          "name": "stdout",
          "output_type": "stream",
          "text": [
            "[(97, 75, 82), (40, 14, 100), (39, 17, 28), (73, 59, 20), (40, 20, 16)]\n",
            "MAP: [((89, 54, 95), (89, 54, 95)), ((63, 49, 58), (63, 49, 58)), ((30, 82, 11), (30, 82, 11)), ((65, 87, 69), (65, 87, 69)), ((26, 53, 57), (26, 53, 57)), ((57, 35, 58), (57, 35, 58)), ((43, 82, 1), (43, 82, 1)), ((75, 20, 51), (75, 20, 51)), ((77, 60, 20), (77, 60, 20)), ((74, 7, 52), (74, 7, 52)), ((58, 16, 11), (58, 16, 11)), ((41, 32, 90), (41, 32, 90)), ((47, 85, 37), (47, 85, 37)), ((27, 65, 53), (27, 65, 53)), ((22, 10, 59), (22, 10, 59)), ((92, 26, 75), (92, 26, 75)), ((11, 34, 21), (11, 34, 21)), ((49, 93, 11), (49, 93, 11)), ((14, 96, 91), (14, 96, 91)), ((56, 27, 23), (56, 27, 23)), ((52, 29, 51), (52, 29, 51)), ((43, 41, 32), (43, 41, 32)), ((93, 32, 44), (93, 32, 44)), ((62, 95, 97), (62, 95, 97)), ((95, 90, 88), (95, 90, 88)), ((5, 51, 82), (5, 51, 82)), ((45, 42, 46), (45, 42, 46)), ((20, 70, 63), (20, 70, 63)), ((27, 49, 53), (27, 49, 53)), ((0, 64, 93), (0, 64, 93)), ((6, 76, 3), (6, 76, 3)), ((12, 35, 12), (12, 35, 12)), ((86, 49, 85), (86, 49, 85)), ((10, 75, 59), (10, 75, 59)), ((79, 5, 35), (79, 5, 35)), ((78, 96, 48), (78, 96, 48)), ((45, 47, 76), (45, 47, 76)), ((72, 43, 34), (72, 43, 34)), ((54, 13, 13), (54, 13, 13)), ((70, 57, 9), (70, 57, 9)), ((18, 51, 48), (18, 51, 48)), ((56, 59, 17), (56, 59, 17)), ((22, 39, 45), (22, 39, 45)), ((16, 69, 77), (16, 69, 77)), ((7, 90, 23), (7, 90, 23)), ((100, 88, 94), (100, 88, 94)), ((75, 12, 71), (75, 12, 71)), ((20, 92, 8), (20, 92, 8)), ((12, 84, 82), (12, 84, 82)), ((53, 32, 66), (53, 32, 66)), ((93, 38, 93), (93, 38, 93)), ((13, 59, 78), (13, 59, 78)), ((29, 20, 72), (29, 20, 72)), ((0, 36, 17), (0, 36, 17)), ((34, 1, 49), (34, 1, 49)), ((57, 38, 16), (57, 38, 16)), ((68, 30, 5), (68, 30, 5)), ((16, 28, 96), (16, 28, 96)), ((99, 74, 34), (99, 74, 34)), ((73, 16, 62), (73, 16, 62)), ((8, 80, 52), (8, 80, 52)), ((41, 52, 84), (41, 52, 84)), ((33, 90, 82), (33, 90, 82)), ((43, 37, 34), (43, 37, 34)), ((31, 12, 3), (31, 12, 3)), ((76, 60, 98), (76, 60, 98)), ((60, 93, 70), (60, 93, 70)), ((44, 54, 26), (44, 54, 26)), ((25, 27, 24), (25, 27, 24)), ((61, 70, 14), (61, 70, 14)), ((78, 15, 86), (78, 15, 86)), ((54, 17, 29), (54, 17, 29)), ((72, 80, 95), (72, 80, 95)), ((8, 6, 38), (8, 6, 38)), ((25, 63, 98), (25, 63, 98)), ((80, 55, 15), (80, 55, 15)), ((0, 15, 15), (0, 15, 15)), ((54, 88, 18), (54, 88, 18)), ((60, 81, 27), (60, 81, 27)), ((0, 92, 73), (0, 92, 73)), ((82, 38, 29), (82, 38, 29)), ((85, 33, 89), (85, 33, 89)), ((100, 98, 8), (100, 98, 8)), ((64, 95, 31), (64, 95, 31)), ((46, 31, 18), (46, 31, 18)), ((63, 84, 63), (63, 84, 63)), ((13, 57, 7), (13, 57, 7)), ((39, 64, 97), (39, 64, 97)), ((10, 32, 86), (10, 32, 86)), ((29, 87, 93), (29, 87, 93)), ((55, 74, 7), (55, 74, 7)), ((12, 29, 71), (12, 29, 71)), ((66, 75, 17), (66, 75, 17)), ((41, 51, 68), (41, 51, 68)), ((22, 39, 98), (22, 39, 98)), ((24, 58, 13), (24, 58, 13)), ((92, 43, 76), (92, 43, 76)), ((69, 56, 49), (69, 56, 49)), ((83, 11, 38), (83, 11, 38)), ((24, 42, 52), (24, 42, 52))]\n",
            "Shuffle: [((89, 54, 95), [(89, 54, 95)]), ((63, 49, 58), [(63, 49, 58)]), ((30, 82, 11), [(30, 82, 11)]), ((65, 87, 69), [(65, 87, 69)]), ((26, 53, 57), [(26, 53, 57)]), ((57, 35, 58), [(57, 35, 58)]), ((43, 82, 1), [(43, 82, 1)]), ((75, 20, 51), [(75, 20, 51)]), ((77, 60, 20), [(77, 60, 20)]), ((74, 7, 52), [(74, 7, 52)]), ((58, 16, 11), [(58, 16, 11)]), ((41, 32, 90), [(41, 32, 90)]), ((47, 85, 37), [(47, 85, 37)]), ((27, 65, 53), [(27, 65, 53)]), ((22, 10, 59), [(22, 10, 59)]), ((92, 26, 75), [(92, 26, 75)]), ((11, 34, 21), [(11, 34, 21)]), ((49, 93, 11), [(49, 93, 11)]), ((14, 96, 91), [(14, 96, 91)]), ((56, 27, 23), [(56, 27, 23)]), ((52, 29, 51), [(52, 29, 51)]), ((43, 41, 32), [(43, 41, 32)]), ((93, 32, 44), [(93, 32, 44)]), ((62, 95, 97), [(62, 95, 97)]), ((95, 90, 88), [(95, 90, 88)]), ((5, 51, 82), [(5, 51, 82)]), ((45, 42, 46), [(45, 42, 46)]), ((20, 70, 63), [(20, 70, 63)]), ((27, 49, 53), [(27, 49, 53)]), ((0, 64, 93), [(0, 64, 93)]), ((6, 76, 3), [(6, 76, 3)]), ((12, 35, 12), [(12, 35, 12)]), ((86, 49, 85), [(86, 49, 85)]), ((10, 75, 59), [(10, 75, 59)]), ((79, 5, 35), [(79, 5, 35)]), ((78, 96, 48), [(78, 96, 48)]), ((45, 47, 76), [(45, 47, 76)]), ((72, 43, 34), [(72, 43, 34)]), ((54, 13, 13), [(54, 13, 13)]), ((70, 57, 9), [(70, 57, 9)]), ((18, 51, 48), [(18, 51, 48)]), ((56, 59, 17), [(56, 59, 17)]), ((22, 39, 45), [(22, 39, 45)]), ((16, 69, 77), [(16, 69, 77)]), ((7, 90, 23), [(7, 90, 23)]), ((100, 88, 94), [(100, 88, 94)]), ((75, 12, 71), [(75, 12, 71)]), ((20, 92, 8), [(20, 92, 8)]), ((12, 84, 82), [(12, 84, 82)]), ((53, 32, 66), [(53, 32, 66)]), ((93, 38, 93), [(93, 38, 93)]), ((13, 59, 78), [(13, 59, 78)]), ((29, 20, 72), [(29, 20, 72)]), ((0, 36, 17), [(0, 36, 17)]), ((34, 1, 49), [(34, 1, 49)]), ((57, 38, 16), [(57, 38, 16)]), ((68, 30, 5), [(68, 30, 5)]), ((16, 28, 96), [(16, 28, 96)]), ((99, 74, 34), [(99, 74, 34)]), ((73, 16, 62), [(73, 16, 62)]), ((8, 80, 52), [(8, 80, 52)]), ((41, 52, 84), [(41, 52, 84)]), ((33, 90, 82), [(33, 90, 82)]), ((43, 37, 34), [(43, 37, 34)]), ((31, 12, 3), [(31, 12, 3)]), ((76, 60, 98), [(76, 60, 98)]), ((60, 93, 70), [(60, 93, 70)]), ((44, 54, 26), [(44, 54, 26)]), ((25, 27, 24), [(25, 27, 24)]), ((61, 70, 14), [(61, 70, 14)]), ((78, 15, 86), [(78, 15, 86)]), ((54, 17, 29), [(54, 17, 29)]), ((72, 80, 95), [(72, 80, 95)]), ((8, 6, 38), [(8, 6, 38)]), ((25, 63, 98), [(25, 63, 98)]), ((80, 55, 15), [(80, 55, 15)]), ((0, 15, 15), [(0, 15, 15)]), ((54, 88, 18), [(54, 88, 18)]), ((60, 81, 27), [(60, 81, 27)]), ((0, 92, 73), [(0, 92, 73)]), ((82, 38, 29), [(82, 38, 29)]), ((85, 33, 89), [(85, 33, 89)]), ((100, 98, 8), [(100, 98, 8)]), ((64, 95, 31), [(64, 95, 31)]), ((46, 31, 18), [(46, 31, 18)]), ((63, 84, 63), [(63, 84, 63)]), ((13, 57, 7), [(13, 57, 7)]), ((39, 64, 97), [(39, 64, 97)]), ((10, 32, 86), [(10, 32, 86)]), ((29, 87, 93), [(29, 87, 93)]), ((55, 74, 7), [(55, 74, 7)]), ((12, 29, 71), [(12, 29, 71)]), ((66, 75, 17), [(66, 75, 17)]), ((41, 51, 68), [(41, 51, 68)]), ((22, 39, 98), [(22, 39, 98)]), ((24, 58, 13), [(24, 58, 13)]), ((92, 43, 76), [(92, 43, 76)]), ((69, 56, 49), [(69, 56, 49)]), ((83, 11, 38), [(83, 11, 38)]), ((24, 42, 52), [(24, 42, 52)])]\n",
            "Reduce: [(89, 54, 95), (63, 49, 58), (30, 82, 11), (65, 87, 69), (26, 53, 57), (57, 35, 58), (43, 82, 1), (75, 20, 51), (77, 60, 20), (74, 7, 52), (58, 16, 11), (41, 32, 90), (47, 85, 37), (27, 65, 53), (22, 10, 59), (92, 26, 75), (11, 34, 21), (49, 93, 11), (14, 96, 91), (56, 27, 23), (52, 29, 51), (43, 41, 32), (93, 32, 44), (62, 95, 97), (95, 90, 88), (5, 51, 82), (45, 42, 46), (20, 70, 63), (27, 49, 53), (0, 64, 93), (6, 76, 3), (12, 35, 12), (86, 49, 85), (10, 75, 59), (79, 5, 35), (78, 96, 48), (45, 47, 76), (72, 43, 34), (54, 13, 13), (70, 57, 9), (18, 51, 48), (56, 59, 17), (22, 39, 45), (16, 69, 77), (7, 90, 23), (100, 88, 94), (75, 12, 71), (20, 92, 8), (12, 84, 82), (53, 32, 66), (93, 38, 93), (13, 59, 78), (29, 20, 72), (0, 36, 17), (34, 1, 49), (57, 38, 16), (68, 30, 5), (16, 28, 96), (99, 74, 34), (73, 16, 62), (8, 80, 52), (41, 52, 84), (33, 90, 82), (43, 37, 34), (31, 12, 3), (76, 60, 98), (60, 93, 70), (44, 54, 26), (25, 27, 24), (61, 70, 14), (78, 15, 86), (54, 17, 29), (72, 80, 95), (8, 6, 38), (25, 63, 98), (80, 55, 15), (0, 15, 15), (54, 88, 18), (60, 81, 27), (0, 92, 73), (82, 38, 29), (85, 33, 89), (100, 98, 8), (64, 95, 31), (46, 31, 18), (63, 84, 63), (13, 57, 7), (39, 64, 97), (10, 32, 86), (29, 87, 93), (55, 74, 7), (12, 29, 71), (66, 75, 17), (41, 51, 68), (22, 39, 98), (24, 58, 13), (92, 43, 76), (69, 56, 49), (83, 11, 38), (24, 42, 52)]\n"
          ]
        }
      ],
      "source": [
        "def MAP(t):\n",
        "    return (t, t)\n",
        "\n",
        "def REDUCE(key, values: Iterator[NamedTuple]):\n",
        "    return (key, key)\n",
        "\n",
        "def RECORDREADER(count):\n",
        "    return [(random.randint(0, 100), random.randint(0, 100), random.randint(0, 100)) for i in range(count)]\n",
        "\n",
        "def group_by_key(iterable):\n",
        "    t = {}\n",
        "    for (k2, v2) in iterable:\n",
        "        t[k2] = t.get(k2, []) + [v2]\n",
        "    return t.items()\n",
        "\n",
        "record = RECORDREADER(5)\n",
        "print(record)\n",
        "\n",
        "map_out = list(map(lambda x: MAP(x), RECORDREADER(100)))\n",
        "print(\"MAP:\", map_out)\n",
        "\n",
        "shuffle_out = group_by_key(map_out)\n",
        "shuffle_out = list(shuffle_out)\n",
        "print(\"Shuffle:\", shuffle_out)\n",
        "\n",
        "reduce_out = list(map(lambda x: REDUCE(*x)[0], shuffle_out))\n",
        "print(\"Reduce:\", reduce_out)"
      ]
    },
    {
      "cell_type": "markdown",
      "metadata": {
        "id": "dQ8TuEbjv4J8"
      },
      "source": [
        "### Intersection (Пересечение)\n",
        "\n",
        "**The Map Function:** Превратите каждый кортеж $t$ в пары ключ-значение $(t, t)$.\n",
        "\n",
        "**The Reduce Function:** Если для ключа $t$ есть список из двух элементов $[t, t]$ $-$ создайте пару $(t, t)$. Иначе, ничего не создавайте."
      ]
    },
    {
      "cell_type": "code",
      "execution_count": 119,
      "metadata": {
        "colab": {
          "base_uri": "https://localhost:8080/"
        },
        "id": "XKlBZh4IwERR",
        "outputId": "415a3b6f-3079-47fe-b4b3-ac3b318e43d8"
      },
      "outputs": [
        {
          "name": "stdout",
          "output_type": "stream",
          "text": [
            "[(0, 2), (1, 2), (0, 2), (3, 0), (0, 0), (2, 0), (0, 1), (2, 1), (3, 2), (1, 0), (3, 2), (1, 3), (0, 1), (2, 3), (1, 3), (2, 2), (3, 2), (2, 2), (1, 2), (1, 3), (0, 3), (0, 0), (0, 0), (3, 2), (0, 1), (1, 2), (3, 0), (3, 2), (3, 1), (3, 0), (2, 0), (0, 2), (2, 2), (3, 1), (3, 2), (3, 0), (1, 2), (0, 2), (0, 1), (3, 2), (2, 3), (1, 2), (3, 0), (0, 2), (3, 3), (0, 2), (3, 0), (3, 1), (2, 3), (3, 0), (2, 0), (0, 2), (2, 2), (2, 3), (1, 3), (2, 2), (2, 0), (2, 2), (3, 2), (1, 1), (3, 1), (0, 1), (2, 1), (3, 2), (2, 1), (2, 0), (0, 3), (0, 0), (1, 2), (2, 1), (0, 0), (2, 3), (2, 0), (2, 1), (1, 1), (2, 2), (3, 2), (1, 3), (3, 1), (3, 3), (1, 3), (0, 3), (0, 3), (3, 2), (1, 3), (0, 1), (2, 3), (0, 3), (1, 2), (3, 2), (1, 1), (1, 1), (1, 3), (2, 2), (1, 3), (0, 1), (0, 3), (1, 2), (2, 1), (3, 2)]\n",
            "MAP: [((2, 3), (2, 3)), ((3, 1), (3, 1)), ((1, 2), (1, 2)), ((1, 0), (1, 0)), ((3, 2), (3, 2)), ((0, 1), (0, 1)), ((2, 1), (2, 1)), ((1, 3), (1, 3)), ((1, 3), (1, 3)), ((0, 3), (0, 3)), ((3, 0), (3, 0)), ((2, 0), (2, 0)), ((0, 0), (0, 0)), ((2, 1), (2, 1)), ((0, 0), (0, 0)), ((3, 0), (3, 0)), ((0, 2), (0, 2)), ((0, 2), (0, 2)), ((2, 3), (2, 3)), ((2, 1), (2, 1)), ((2, 2), (2, 2)), ((1, 2), (1, 2)), ((0, 3), (0, 3)), ((2, 1), (2, 1)), ((2, 0), (2, 0)), ((2, 3), (2, 3)), ((3, 1), (3, 1)), ((3, 2), (3, 2)), ((2, 3), (2, 3)), ((0, 3), (0, 3)), ((3, 1), (3, 1)), ((2, 2), (2, 2)), ((1, 2), (1, 2)), ((2, 1), (2, 1)), ((3, 2), (3, 2)), ((0, 3), (0, 3)), ((0, 0), (0, 0)), ((2, 1), (2, 1)), ((0, 2), (0, 2)), ((1, 2), (1, 2)), ((2, 1), (2, 1)), ((1, 3), (1, 3)), ((1, 2), (1, 2)), ((2, 2), (2, 2)), ((0, 0), (0, 0)), ((2, 1), (2, 1)), ((2, 1), (2, 1)), ((3, 0), (3, 0)), ((0, 3), (0, 3)), ((0, 3), (0, 3)), ((0, 3), (0, 3)), ((1, 2), (1, 2)), ((1, 1), (1, 1)), ((2, 2), (2, 2)), ((3, 1), (3, 1)), ((2, 2), (2, 2)), ((2, 3), (2, 3)), ((2, 0), (2, 0)), ((0, 2), (0, 2)), ((3, 3), (3, 3)), ((1, 0), (1, 0)), ((1, 1), (1, 1)), ((1, 2), (1, 2)), ((2, 2), (2, 2)), ((1, 2), (1, 2)), ((0, 3), (0, 3)), ((0, 1), (0, 1)), ((3, 1), (3, 1)), ((2, 1), (2, 1)), ((2, 3), (2, 3)), ((3, 1), (3, 1)), ((0, 3), (0, 3)), ((1, 1), (1, 1)), ((0, 3), (0, 3)), ((3, 0), (3, 0)), ((3, 0), (3, 0)), ((1, 3), (1, 3)), ((2, 3), (2, 3)), ((0, 3), (0, 3)), ((0, 2), (0, 2)), ((2, 1), (2, 1)), ((2, 1), (2, 1)), ((2, 0), (2, 0)), ((2, 1), (2, 1)), ((0, 3), (0, 3)), ((0, 3), (0, 3)), ((2, 3), (2, 3)), ((0, 3), (0, 3)), ((3, 2), (3, 2)), ((1, 1), (1, 1)), ((3, 3), (3, 3)), ((3, 2), (3, 2)), ((1, 0), (1, 0)), ((2, 0), (2, 0)), ((2, 1), (2, 1)), ((0, 0), (0, 0)), ((3, 0), (3, 0)), ((2, 1), (2, 1)), ((2, 1), (2, 1)), ((2, 2), (2, 2))]\n",
            "Shuffle: [((2, 3), [(2, 3), (2, 3), (2, 3), (2, 3), (2, 3), (2, 3), (2, 3), (2, 3)]), ((3, 1), [(3, 1), (3, 1), (3, 1), (3, 1), (3, 1), (3, 1)]), ((1, 2), [(1, 2), (1, 2), (1, 2), (1, 2), (1, 2), (1, 2), (1, 2), (1, 2)]), ((1, 0), [(1, 0), (1, 0), (1, 0)]), ((3, 2), [(3, 2), (3, 2), (3, 2), (3, 2), (3, 2)]), ((0, 1), [(0, 1), (0, 1)]), ((2, 1), [(2, 1), (2, 1), (2, 1), (2, 1), (2, 1), (2, 1), (2, 1), (2, 1), (2, 1), (2, 1), (2, 1), (2, 1), (2, 1), (2, 1), (2, 1), (2, 1)]), ((1, 3), [(1, 3), (1, 3), (1, 3), (1, 3)]), ((0, 3), [(0, 3), (0, 3), (0, 3), (0, 3), (0, 3), (0, 3), (0, 3), (0, 3), (0, 3), (0, 3), (0, 3), (0, 3), (0, 3), (0, 3)]), ((3, 0), [(3, 0), (3, 0), (3, 0), (3, 0), (3, 0), (3, 0)]), ((2, 0), [(2, 0), (2, 0), (2, 0), (2, 0), (2, 0)]), ((0, 0), [(0, 0), (0, 0), (0, 0), (0, 0), (0, 0)]), ((0, 2), [(0, 2), (0, 2), (0, 2), (0, 2), (0, 2)]), ((2, 2), [(2, 2), (2, 2), (2, 2), (2, 2), (2, 2), (2, 2), (2, 2)]), ((1, 1), [(1, 1), (1, 1), (1, 1), (1, 1)]), ((3, 3), [(3, 3), (3, 3)])]\n",
            "Reduce: [(0, 1), (3, 3)]\n"
          ]
        }
      ],
      "source": [
        "def MAP(t):\n",
        "    return (t, t)\n",
        "\n",
        "def REDUCE(key, values: Iterator[NamedTuple]):\n",
        "    if len(values) == 2:\n",
        "        return (key, key)\n",
        "\n",
        "def RECORDREADER(count):\n",
        "    return [(random.randint(0, 3), random.randint(0, 3)) for i in range(count)]\n",
        "\n",
        "def group_by_key(iterable):\n",
        "    t = {}\n",
        "    for (k2, v2) in iterable:\n",
        "        t[k2] = t.get(k2, []) + [v2]\n",
        "    return t.items()\n",
        "\n",
        "record = RECORDREADER(100)\n",
        "print(record)\n",
        "\n",
        "map_output = list(map(lambda x: MAP(x), RECORDREADER(100)))\n",
        "print(\"MAP:\", map_output)\n",
        "\n",
        "shuffle_output = group_by_key(map_output)\n",
        "shuffle_output = list(shuffle_output)\n",
        "print(\"Shuffle:\", shuffle_output)\n",
        "\n",
        "reduce_output = [el[0] for el in list(map(lambda x: REDUCE(*x), shuffle_output)) if el is not None]\n",
        "print(\"Reduce:\", reduce_output)"
      ]
    },
    {
      "cell_type": "markdown",
      "metadata": {
        "id": "AVOpqoY3wE5k"
      },
      "source": [
        "### Difference (Разница)\n",
        "\n",
        "**The Map Function:** Для кортежа $t \\in R$, создайте пару $(t, R)$, и для кортежа $t \\in S$, создайте пару $(t, S)$. Задумка заключается в том, чтобы значение пары было именем отношения $R$ or $S$, которому принадлежит кортеж (а лучше, единичный бит, по которому можно два отношения различить $R$ or $S$), а не весь набор атрибутов отношения.\n",
        "\n",
        "**The Reduce Function:** Для каждого ключа $t$, если соответствующее значение является списком $[R]$, создайте пару $(t, t)$. В иных случаях не предпринимайте действий."
      ]
    },
    {
      "cell_type": "code",
      "execution_count": 121,
      "metadata": {
        "colab": {
          "base_uri": "https://localhost:8080/"
        },
        "id": "QE_AC09lwZIZ",
        "outputId": "c0aa39e8-2355-45bd-84a3-b17a01587228"
      },
      "outputs": [
        {
          "name": "stdout",
          "output_type": "stream",
          "text": [
            "MAP: [(((1, 0), (1, 0), (0, 1)), 1), (((2, 1), (3, 1), (2, 2)), 2), (((1, 3), (1, 3), (3, 2)), 1), (((1, 0), (2, 3), (1, 1)), 1), (((3, 1), (2, 3), (1, 2)), 1), (((0, 2), (1, 2), (3, 3)), 2), (((2, 1), (3, 3), (3, 3)), 1), (((3, 0), (3, 2), (2, 0)), 1), (((3, 1), (3, 1), (0, 0)), 1), (((0, 2), (3, 1), (3, 0)), 2), (((2, 1), (0, 1), (1, 0)), 1), (((3, 0), (1, 3), (0, 1)), 2), (((2, 2), (1, 3), (1, 0)), 1), (((0, 1), (2, 0), (2, 1)), 1), (((0, 0), (1, 3), (2, 3)), 1), (((1, 0), (1, 1), (0, 3)), 1), (((0, 1), (3, 2), (0, 0)), 1), (((1, 2), (3, 2), (3, 3)), 2), (((0, 1), (2, 2), (0, 3)), 2), (((1, 1), (2, 3), (2, 1)), 2), (((3, 3), (2, 1), (1, 3)), 1), (((2, 3), (1, 0), (0, 2)), 2), (((3, 2), (2, 3), (3, 3)), 2), (((1, 3), (1, 1), (1, 3)), 2), (((3, 3), (3, 0), (2, 3)), 2), (((1, 0), (1, 1), (0, 3)), 1), (((2, 1), (2, 1), (0, 0)), 2), (((0, 2), (1, 0), (1, 0)), 1), (((3, 2), (3, 0), (1, 3)), 2), (((0, 1), (1, 1), (2, 2)), 1), (((2, 1), (2, 1), (2, 2)), 1), (((1, 2), (3, 3), (3, 2)), 2), (((3, 0), (1, 2), (1, 2)), 2), (((0, 0), (3, 0), (0, 0)), 2), (((0, 1), (1, 1), (3, 3)), 1), (((3, 3), (3, 1), (2, 3)), 1), (((3, 3), (0, 3), (2, 2)), 1), (((1, 3), (2, 1), (0, 1)), 2), (((1, 2), (2, 1), (2, 3)), 1), (((1, 2), (0, 1), (2, 2)), 2), (((1, 0), (3, 3), (2, 0)), 1), (((1, 0), (0, 0), (3, 0)), 1), (((0, 2), (0, 2), (0, 3)), 2), (((0, 2), (2, 1), (1, 3)), 2), (((2, 2), (3, 0), (0, 3)), 1), (((3, 3), (0, 2), (0, 2)), 1), (((1, 0), (0, 3), (1, 3)), 1), (((0, 1), (2, 0), (2, 3)), 2), (((0, 0), (3, 0), (2, 3)), 2), (((0, 2), (0, 1), (2, 2)), 2), (((3, 0), (1, 0), (2, 1)), 1), (((2, 3), (3, 1), (1, 1)), 1), (((0, 0), (2, 2), (3, 1)), 2), (((1, 1), (3, 3), (3, 2)), 2), (((1, 3), (0, 1), (3, 2)), 2), (((3, 3), (0, 2), (1, 1)), 2), (((1, 1), (1, 0), (3, 1)), 2), (((1, 2), (2, 1), (1, 2)), 1), (((3, 0), (0, 3), (0, 1)), 1), (((3, 0), (2, 2), (2, 0)), 1), (((3, 2), (2, 0), (3, 1)), 1), (((3, 2), (0, 2), (0, 1)), 1), (((1, 3), (2, 0), (3, 1)), 1), (((3, 3), (2, 2), (3, 0)), 2), (((2, 0), (2, 1), (1, 0)), 2), (((2, 3), (1, 3), (2, 3)), 1), (((3, 2), (2, 2), (2, 0)), 2), (((2, 0), (2, 1), (0, 3)), 2), (((2, 3), (0, 2), (2, 2)), 2), (((2, 0), (1, 1), (0, 1)), 1), (((3, 1), (0, 0), (0, 0)), 1), (((1, 2), (2, 2), (3, 2)), 1), (((2, 3), (2, 2), (2, 2)), 1), (((2, 3), (3, 3), (0, 1)), 2), (((1, 2), (1, 3), (1, 3)), 1), (((3, 0), (2, 0), (0, 0)), 1), (((2, 0), (0, 0), (2, 2)), 2), (((3, 0), (1, 1), (3, 3)), 2), (((3, 2), (3, 0), (2, 1)), 1), (((2, 1), (3, 3), (0, 1)), 1), (((1, 0), (0, 2), (0, 3)), 2), (((0, 0), (3, 2), (2, 3)), 1), (((1, 2), (0, 1), (0, 0)), 2), (((0, 1), (3, 2), (3, 2)), 2), (((0, 3), (2, 2), (0, 3)), 1), (((2, 2), (0, 3), (0, 3)), 1), (((0, 2), (3, 1), (1, 1)), 1), (((1, 0), (1, 0), (0, 0)), 2), (((0, 0), (1, 3), (2, 2)), 2), (((0, 2), (2, 1), (0, 2)), 2), (((1, 0), (1, 3), (0, 3)), 1), (((1, 3), (1, 3), (1, 0)), 2), (((3, 3), (1, 0), (1, 1)), 1), (((1, 2), (1, 2), (3, 2)), 1), (((3, 1), (3, 3), (2, 0)), 1), (((2, 3), (2, 2), (3, 0)), 1), (((1, 0), (0, 2), (2, 3)), 2), (((0, 1), (3, 0), (2, 0)), 1), (((0, 0), (3, 3), (0, 0)), 2), (((3, 0), (2, 3), (0, 0)), 2)]\n",
            "Shuffle: [(((1, 0), (1, 0), (0, 1)), [1]), (((2, 1), (3, 1), (2, 2)), [2]), (((1, 3), (1, 3), (3, 2)), [1]), (((1, 0), (2, 3), (1, 1)), [1]), (((3, 1), (2, 3), (1, 2)), [1]), (((0, 2), (1, 2), (3, 3)), [2]), (((2, 1), (3, 3), (3, 3)), [1]), (((3, 0), (3, 2), (2, 0)), [1]), (((3, 1), (3, 1), (0, 0)), [1]), (((0, 2), (3, 1), (3, 0)), [2]), (((2, 1), (0, 1), (1, 0)), [1]), (((3, 0), (1, 3), (0, 1)), [2]), (((2, 2), (1, 3), (1, 0)), [1]), (((0, 1), (2, 0), (2, 1)), [1]), (((0, 0), (1, 3), (2, 3)), [1]), (((1, 0), (1, 1), (0, 3)), [1, 1]), (((0, 1), (3, 2), (0, 0)), [1]), (((1, 2), (3, 2), (3, 3)), [2]), (((0, 1), (2, 2), (0, 3)), [2]), (((1, 1), (2, 3), (2, 1)), [2]), (((3, 3), (2, 1), (1, 3)), [1]), (((2, 3), (1, 0), (0, 2)), [2]), (((3, 2), (2, 3), (3, 3)), [2]), (((1, 3), (1, 1), (1, 3)), [2]), (((3, 3), (3, 0), (2, 3)), [2]), (((2, 1), (2, 1), (0, 0)), [2]), (((0, 2), (1, 0), (1, 0)), [1]), (((3, 2), (3, 0), (1, 3)), [2]), (((0, 1), (1, 1), (2, 2)), [1]), (((2, 1), (2, 1), (2, 2)), [1]), (((1, 2), (3, 3), (3, 2)), [2]), (((3, 0), (1, 2), (1, 2)), [2]), (((0, 0), (3, 0), (0, 0)), [2]), (((0, 1), (1, 1), (3, 3)), [1]), (((3, 3), (3, 1), (2, 3)), [1]), (((3, 3), (0, 3), (2, 2)), [1]), (((1, 3), (2, 1), (0, 1)), [2]), (((1, 2), (2, 1), (2, 3)), [1]), (((1, 2), (0, 1), (2, 2)), [2]), (((1, 0), (3, 3), (2, 0)), [1]), (((1, 0), (0, 0), (3, 0)), [1]), (((0, 2), (0, 2), (0, 3)), [2]), (((0, 2), (2, 1), (1, 3)), [2]), (((2, 2), (3, 0), (0, 3)), [1]), (((3, 3), (0, 2), (0, 2)), [1]), (((1, 0), (0, 3), (1, 3)), [1]), (((0, 1), (2, 0), (2, 3)), [2]), (((0, 0), (3, 0), (2, 3)), [2]), (((0, 2), (0, 1), (2, 2)), [2]), (((3, 0), (1, 0), (2, 1)), [1]), (((2, 3), (3, 1), (1, 1)), [1]), (((0, 0), (2, 2), (3, 1)), [2]), (((1, 1), (3, 3), (3, 2)), [2]), (((1, 3), (0, 1), (3, 2)), [2]), (((3, 3), (0, 2), (1, 1)), [2]), (((1, 1), (1, 0), (3, 1)), [2]), (((1, 2), (2, 1), (1, 2)), [1]), (((3, 0), (0, 3), (0, 1)), [1]), (((3, 0), (2, 2), (2, 0)), [1]), (((3, 2), (2, 0), (3, 1)), [1]), (((3, 2), (0, 2), (0, 1)), [1]), (((1, 3), (2, 0), (3, 1)), [1]), (((3, 3), (2, 2), (3, 0)), [2]), (((2, 0), (2, 1), (1, 0)), [2]), (((2, 3), (1, 3), (2, 3)), [1]), (((3, 2), (2, 2), (2, 0)), [2]), (((2, 0), (2, 1), (0, 3)), [2]), (((2, 3), (0, 2), (2, 2)), [2]), (((2, 0), (1, 1), (0, 1)), [1]), (((3, 1), (0, 0), (0, 0)), [1]), (((1, 2), (2, 2), (3, 2)), [1]), (((2, 3), (2, 2), (2, 2)), [1]), (((2, 3), (3, 3), (0, 1)), [2]), (((1, 2), (1, 3), (1, 3)), [1]), (((3, 0), (2, 0), (0, 0)), [1]), (((2, 0), (0, 0), (2, 2)), [2]), (((3, 0), (1, 1), (3, 3)), [2]), (((3, 2), (3, 0), (2, 1)), [1]), (((2, 1), (3, 3), (0, 1)), [1]), (((1, 0), (0, 2), (0, 3)), [2]), (((0, 0), (3, 2), (2, 3)), [1]), (((1, 2), (0, 1), (0, 0)), [2]), (((0, 1), (3, 2), (3, 2)), [2]), (((0, 3), (2, 2), (0, 3)), [1]), (((2, 2), (0, 3), (0, 3)), [1]), (((0, 2), (3, 1), (1, 1)), [1]), (((1, 0), (1, 0), (0, 0)), [2]), (((0, 0), (1, 3), (2, 2)), [2]), (((0, 2), (2, 1), (0, 2)), [2]), (((1, 0), (1, 3), (0, 3)), [1]), (((1, 3), (1, 3), (1, 0)), [2]), (((3, 3), (1, 0), (1, 1)), [1]), (((1, 2), (1, 2), (3, 2)), [1]), (((3, 1), (3, 3), (2, 0)), [1]), (((2, 3), (2, 2), (3, 0)), [1]), (((1, 0), (0, 2), (2, 3)), [2]), (((0, 1), (3, 0), (2, 0)), [1]), (((0, 0), (3, 3), (0, 0)), [2]), (((3, 0), (2, 3), (0, 0)), [2])]\n",
            "Reduce: [((1, 0), (1, 0), (0, 1)), ((1, 3), (1, 3), (3, 2)), ((1, 0), (2, 3), (1, 1)), ((3, 1), (2, 3), (1, 2)), ((2, 1), (3, 3), (3, 3)), ((3, 0), (3, 2), (2, 0)), ((3, 1), (3, 1), (0, 0)), ((2, 1), (0, 1), (1, 0)), ((2, 2), (1, 3), (1, 0)), ((0, 1), (2, 0), (2, 1)), ((0, 0), (1, 3), (2, 3)), ((0, 1), (3, 2), (0, 0)), ((3, 3), (2, 1), (1, 3)), ((0, 2), (1, 0), (1, 0)), ((0, 1), (1, 1), (2, 2)), ((2, 1), (2, 1), (2, 2)), ((0, 1), (1, 1), (3, 3)), ((3, 3), (3, 1), (2, 3)), ((3, 3), (0, 3), (2, 2)), ((1, 2), (2, 1), (2, 3)), ((1, 0), (3, 3), (2, 0)), ((1, 0), (0, 0), (3, 0)), ((2, 2), (3, 0), (0, 3)), ((3, 3), (0, 2), (0, 2)), ((1, 0), (0, 3), (1, 3)), ((3, 0), (1, 0), (2, 1)), ((2, 3), (3, 1), (1, 1)), ((1, 2), (2, 1), (1, 2)), ((3, 0), (0, 3), (0, 1)), ((3, 0), (2, 2), (2, 0)), ((3, 2), (2, 0), (3, 1)), ((3, 2), (0, 2), (0, 1)), ((1, 3), (2, 0), (3, 1)), ((2, 3), (1, 3), (2, 3)), ((2, 0), (1, 1), (0, 1)), ((3, 1), (0, 0), (0, 0)), ((1, 2), (2, 2), (3, 2)), ((2, 3), (2, 2), (2, 2)), ((1, 2), (1, 3), (1, 3)), ((3, 0), (2, 0), (0, 0)), ((3, 2), (3, 0), (2, 1)), ((2, 1), (3, 3), (0, 1)), ((0, 0), (3, 2), (2, 3)), ((0, 3), (2, 2), (0, 3)), ((2, 2), (0, 3), (0, 3)), ((0, 2), (3, 1), (1, 1)), ((1, 0), (1, 3), (0, 3)), ((3, 3), (1, 0), (1, 1)), ((1, 2), (1, 2), (3, 2)), ((3, 1), (3, 3), (2, 0)), ((2, 3), (2, 2), (3, 0)), ((0, 1), (3, 0), (2, 0))]\n"
          ]
        }
      ],
      "source": [
        "rels = [1, 2]\n",
        "\n",
        "class Tuple:\n",
        "    def __init__(self, data: tuple, rel_id: int):\n",
        "        self.data = data\n",
        "        self.rel_id = rel_id\n",
        "\n",
        "def get_random_tuple(count):\n",
        "    data = tuple([(random.randint(0, 3), random.randint(0, 3)) for i in range(count)])\n",
        "    rel_id = rels[random.randint(0, len(rels) - 1)]\n",
        "    return Tuple(data, rel_id)\n",
        "\n",
        "def RECORDREADER(count):\n",
        "    return [get_random_tuple(3) for i in range(count)]\n",
        "\n",
        "def MAP(t: Tuple):\n",
        "    return (t.data, t.rel_id)\n",
        "\n",
        "def REDUCE(key, values: Iterator[NamedTuple]):\n",
        "    if values == [rels[0]]:\n",
        "        return (key, key)\n",
        "\n",
        "def group_by_key(iterable):\n",
        "    t = {}\n",
        "    for (k2, v2) in iterable:\n",
        "        t[k2] = t.get(k2, []) + [v2]\n",
        "    return t.items()\n",
        "\n",
        "record = RECORDREADER(100)\n",
        "\n",
        "map_out = list(map(lambda x: MAP(x), RECORDREADER(100)))\n",
        "print(\"MAP:\", map_out)\n",
        "\n",
        "shuffle_out = group_by_key(map_out)\n",
        "shuffle_out = list(shuffle_out)\n",
        "print(\"Shuffle:\", shuffle_out)\n",
        "\n",
        "reduce_out = [el[0] for el in list(map(lambda x: REDUCE(*x), shuffle_out)) if el is not None]\n",
        "print(\"Reduce:\", reduce_out)"
      ]
    },
    {
      "cell_type": "markdown",
      "metadata": {
        "id": "j8I58V2VwhSm"
      },
      "source": [
        "### Natural Join\n",
        "\n",
        "**The Map Function:** Для каждого кортежа $(a, b)$ отношения $R$, создайте пару $(b,(R, a))$. Для каждого кортежа $(b, c)$ отношения $S$, создайте пару $(b,(S, c))$.\n",
        "\n",
        "**The Reduce Function:** Каждый ключ $b$ будет асоциирован со списком пар, которые принимают форму либо $(R, a)$, либо $(S, c)$. Создайте все пары, одни, состоящие из  первого компонента $R$, а другие, из первого компонента $S$, то есть $(R, a)$ и $(S, c)$. На выходе вы получаете последовательность пар ключ-значение из списков ключей и значений. Ключ не нужен. Каждое значение, это тройка $(a, b, c)$ такая, что $(R, a)$ и $(S, c)$ это принадлежат входному списку значений."
      ]
    },
    {
      "cell_type": "code",
      "execution_count": 124,
      "metadata": {
        "colab": {
          "base_uri": "https://localhost:8080/"
        },
        "id": "yHiuuTctw86I",
        "outputId": "fe30e67f-6f24-43c1-b0e1-1eb6dce78448"
      },
      "outputs": [
        {
          "name": "stdout",
          "output_type": "stream",
          "text": [
            "MAP: [(0, (2, 2)), (1, (2, 1)), (1, (2, 1)), (3, (1, 2)), (2, (1, 0)), (0, (2, 2)), (0, (2, 3)), (1, (2, 2)), (1, (1, 0)), (3, (1, 3)), (2, (2, 3)), (1, (1, 1)), (1, (1, 1)), (2, (2, 3)), (3, (2, 1)), (0, (1, 3)), (1, (1, 0)), (2, (1, 1)), (1, (1, 0)), (2, (2, 1)), (0, (2, 1)), (2, (2, 2)), (2, (2, 2)), (1, (2, 3)), (3, (1, 3)), (2, (1, 1)), (3, (2, 2)), (3, (2, 2)), (0, (1, 0)), (3, (2, 1)), (2, (2, 3)), (1, (2, 0)), (3, (2, 1)), (1, (2, 3)), (2, (1, 3)), (1, (2, 0)), (1, (2, 0)), (2, (2, 3)), (3, (2, 0)), (0, (1, 2)), (2, (2, 3)), (1, (1, 3)), (2, (1, 3)), (2, (2, 3)), (3, (2, 2)), (2, (2, 3)), (2, (1, 0)), (0, (1, 1)), (2, (2, 1)), (1, (2, 2)), (2, (2, 0)), (1, (2, 0)), (3, (2, 3)), (2, (1, 0)), (3, (2, 1)), (1, (1, 3)), (1, (1, 3)), (0, (1, 1)), (1, (1, 0)), (2, (2, 3)), (2, (1, 0)), (0, (2, 1)), (3, (2, 1)), (0, (1, 2)), (0, (1, 3)), (3, (1, 3)), (2, (1, 2)), (3, (1, 2)), (0, (2, 1)), (2, (2, 2)), (0, (1, 1)), (2, (2, 3)), (0, (1, 3)), (1, (1, 3)), (1, (2, 0)), (2, (1, 0)), (0, (2, 1)), (0, (1, 1)), (1, (2, 2)), (1, (1, 1)), (1, (2, 1)), (3, (1, 2)), (3, (2, 3)), (3, (1, 3)), (0, (2, 1)), (3, (2, 3)), (3, (1, 3)), (3, (2, 1)), (1, (2, 1)), (0, (2, 3)), (0, (2, 1)), (3, (1, 1)), (3, (2, 2)), (3, (1, 0)), (2, (2, 1)), (0, (2, 0)), (3, (1, 3)), (1, (2, 2)), (3, (2, 0)), (1, (1, 1))]\n",
            "Shuffle: [(0, [(2, 2), (2, 2), (2, 3), (1, 3), (2, 1), (1, 0), (1, 2), (1, 1), (1, 1), (2, 1), (1, 2), (1, 3), (2, 1), (1, 1), (1, 3), (2, 1), (1, 1), (2, 1), (2, 3), (2, 1), (2, 0)]), (1, [(2, 1), (2, 1), (2, 2), (1, 0), (1, 1), (1, 1), (1, 0), (1, 0), (2, 3), (2, 0), (2, 3), (2, 0), (2, 0), (1, 3), (2, 2), (2, 0), (1, 3), (1, 3), (1, 0), (1, 3), (2, 0), (2, 2), (1, 1), (2, 1), (2, 1), (2, 2), (1, 1)]), (3, [(1, 2), (1, 3), (2, 1), (1, 3), (2, 2), (2, 2), (2, 1), (2, 1), (2, 0), (2, 2), (2, 3), (2, 1), (2, 1), (1, 3), (1, 2), (1, 2), (2, 3), (1, 3), (2, 3), (1, 3), (2, 1), (1, 1), (2, 2), (1, 0), (1, 3), (2, 0)]), (2, [(1, 0), (2, 3), (2, 3), (1, 1), (2, 1), (2, 2), (2, 2), (1, 1), (2, 3), (1, 3), (2, 3), (2, 3), (1, 3), (2, 3), (2, 3), (1, 0), (2, 1), (2, 0), (1, 0), (2, 3), (1, 0), (1, 2), (2, 2), (2, 3), (1, 0), (2, 1)])]\n",
            "Reduce: [[(2, 0, 2), (2, 0, 2), (2, 0, 3), (1, 0, 3), (2, 0, 1), (1, 0, 0), (1, 0, 2), (1, 0, 1), (1, 0, 1), (2, 0, 1), (1, 0, 2), (1, 0, 3), (2, 0, 1), (1, 0, 1), (1, 0, 3), (2, 0, 1), (1, 0, 1), (2, 0, 1), (2, 0, 3), (2, 0, 1), (2, 0, 0)], [(2, 1, 1), (2, 1, 1), (2, 1, 2), (1, 1, 0), (1, 1, 1), (1, 1, 1), (1, 1, 0), (1, 1, 0), (2, 1, 3), (2, 1, 0), (2, 1, 3), (2, 1, 0), (2, 1, 0), (1, 1, 3), (2, 1, 2), (2, 1, 0), (1, 1, 3), (1, 1, 3), (1, 1, 0), (1, 1, 3), (2, 1, 0), (2, 1, 2), (1, 1, 1), (2, 1, 1), (2, 1, 1), (2, 1, 2), (1, 1, 1)], [(1, 3, 2), (1, 3, 3), (2, 3, 1), (1, 3, 3), (2, 3, 2), (2, 3, 2), (2, 3, 1), (2, 3, 1), (2, 3, 0), (2, 3, 2), (2, 3, 3), (2, 3, 1), (2, 3, 1), (1, 3, 3), (1, 3, 2), (1, 3, 2), (2, 3, 3), (1, 3, 3), (2, 3, 3), (1, 3, 3), (2, 3, 1), (1, 3, 1), (2, 3, 2), (1, 3, 0), (1, 3, 3), (2, 3, 0)], [(1, 2, 0), (2, 2, 3), (2, 2, 3), (1, 2, 1), (2, 2, 1), (2, 2, 2), (2, 2, 2), (1, 2, 1), (2, 2, 3), (1, 2, 3), (2, 2, 3), (2, 2, 3), (1, 2, 3), (2, 2, 3), (2, 2, 3), (1, 2, 0), (2, 2, 1), (2, 2, 0), (1, 2, 0), (2, 2, 3), (1, 2, 0), (1, 2, 2), (2, 2, 2), (2, 2, 3), (1, 2, 0), (2, 2, 1)]]\n"
          ]
        }
      ],
      "source": [
        "rels = [1, 2]\n",
        "\n",
        "class Tuple:\n",
        "  def __init__(self, data: tuple, rel_id: int):\n",
        "    self.data = data\n",
        "    self.rel_id = rel_id\n",
        "\n",
        "def get_random_tuple():\n",
        "  data = (random.randint(0, 3), random.randint(0, 3))\n",
        "  rel_id = rels[random.randint(0, len(rels) - 1)]\n",
        "  return Tuple(data, rel_id)\n",
        "\n",
        "def RECORDREADER(count):\n",
        "  return [get_random_tuple() for i in range(count)]\n",
        "\n",
        "def MAP(t: Tuple):\n",
        "  if t.rel_id == rels[0]:\n",
        "    return (t.data[1], (t.rel_id, t.data[0]))\n",
        "  else:\n",
        "    return (t.data[0], (t.rel_id, t.data[1]))\n",
        "\n",
        "def REDUCE(key, values: Iterator[NamedTuple]):\n",
        "  res = []\n",
        "  for v in values:\n",
        "    res.append((v[0], key, v[1]))\n",
        "  return res\n",
        "\n",
        "def group_by_key(iterable):\n",
        "  t = {}\n",
        "  for (k2, v2) in iterable:\n",
        "    t[k2] = t.get(k2, []) + [v2]\n",
        "  return t.items()\n",
        "\n",
        "record = RECORDREADER(100)\n",
        "\n",
        "map_out = list(map(lambda x: MAP(x), RECORDREADER(100)))\n",
        "print(\"MAP:\", map_out)\n",
        "\n",
        "shuffle_out = group_by_key(map_out)\n",
        "shuffle_out = list(shuffle_out)\n",
        "print(\"Shuffle:\", shuffle_out)\n",
        "\n",
        "reduce_out = list(map(lambda x: REDUCE(*x), shuffle_out))\n",
        "print(\"Reduce:\", reduce_out)"
      ]
    },
    {
      "cell_type": "markdown",
      "metadata": {
        "id": "kYdlr0YUxE27"
      },
      "source": [
        "### Grouping and Aggregation (Группировка и аггрегация)\n",
        "\n",
        "**The Map Function:** Для каждого кортежа $(a, b, c$) создайте пару $(a, b)$.\n",
        "\n",
        "**The Reduce Function:** Ключ представляет ту или иную группу. Примение аггрегирующую операцию $\\theta$ к списку значений $[b1, b2, . . . , bn]$ ассоциированных с ключом $a$. Возвращайте в выходной поток $(a, x)$, где $x$ результат применения  $\\theta$ к списку. Например, если $\\theta$ это $SUM$, тогда $x = b1 + b2 + · · · + bn$, а если $\\theta$ is $MAX$, тогда $x$ это максимальное из значений $b1, b2, . . . , bn$."
      ]
    },
    {
      "cell_type": "code",
      "execution_count": 130,
      "metadata": {
        "colab": {
          "base_uri": "https://localhost:8080/"
        },
        "id": "MLPckfEGxico",
        "outputId": "450acc98-75cd-4ac9-afbd-16686abf8254"
      },
      "outputs": [
        {
          "name": "stdout",
          "output_type": "stream",
          "text": [
            "MAP: [(2, 0), (3, 2), (3, 3), (1, 0), (0, 3), (2, 1), (2, 2), (0, 1), (3, 0), (0, 1), (1, 0), (1, 0), (2, 1), (1, 1), (1, 0), (2, 1), (1, 3), (1, 3), (0, 3), (3, 1), (3, 0), (0, 2), (3, 0), (3, 0), (2, 1), (0, 1), (2, 2), (1, 3), (2, 2), (2, 3), (0, 0), (3, 3), (3, 2), (3, 3), (0, 2), (3, 0), (1, 1), (3, 1), (0, 2), (0, 0), (0, 3), (3, 3), (2, 1), (2, 1), (0, 3), (3, 2), (3, 3), (2, 2), (3, 0), (2, 3), (3, 1), (0, 0), (3, 3), (1, 2), (0, 3), (3, 1), (3, 1), (3, 1), (3, 0), (0, 3), (2, 3), (0, 2), (2, 2), (2, 1), (1, 3), (2, 0), (3, 2), (1, 3), (0, 1), (2, 0), (0, 0), (1, 0), (2, 0), (0, 1), (2, 2), (3, 2), (1, 0), (0, 3), (1, 1), (0, 0), (1, 1), (2, 3), (0, 0), (2, 0), (0, 0), (2, 2), (2, 0), (1, 2), (3, 1), (3, 0), (0, 2), (0, 0), (0, 1), (0, 0), (0, 2), (1, 3), (1, 1), (1, 0), (0, 2), (1, 3)]\n",
            "Shuffle: [(2, [0, 1, 2, 1, 1, 1, 2, 2, 3, 1, 1, 2, 3, 3, 2, 1, 0, 0, 0, 2, 3, 0, 2, 0]), (3, [2, 3, 0, 1, 0, 0, 0, 3, 2, 3, 0, 1, 3, 2, 3, 0, 1, 3, 1, 1, 1, 0, 2, 2, 1, 0]), (1, [0, 0, 0, 1, 0, 3, 3, 3, 1, 2, 3, 3, 0, 0, 1, 1, 2, 3, 1, 0, 3]), (0, [3, 1, 1, 3, 2, 1, 0, 2, 2, 0, 3, 3, 0, 3, 3, 2, 1, 0, 1, 3, 0, 0, 0, 2, 0, 1, 0, 2, 2])]\n",
            "Reduce: [(2, 33), (3, 35), (1, 30), (0, 41)]\n"
          ]
        }
      ],
      "source": [
        "def get_random_tup():\n",
        "  return (random.randint(0, 3), random.randint(0, 3), random.randint(0, 3))\n",
        "\n",
        "def RECORDREADER(count):\n",
        "  return [get_random_tup() for i in range(count)]\n",
        "\n",
        "def MAP(t: Tuple):\n",
        "  return (t[0], t[1])\n",
        "\n",
        "def tetta(values):\n",
        "  return sum(values)\n",
        "\n",
        "def REDUCE(key, values: Iterator[NamedTuple]):\n",
        "  x = tetta(values)\n",
        "  return (key, x)\n",
        "\n",
        "def group_by_key(iterable):\n",
        "  t = {}\n",
        "  for (k2, v2) in iterable:\n",
        "    t[k2] = t.get(k2, []) + [v2]\n",
        "  return t.items()\n",
        "\n",
        "record = RECORDREADER(100)\n",
        "\n",
        "map_out = list(map(lambda x: MAP(x), RECORDREADER(100)))\n",
        "print(\"MAP:\", map_out)\n",
        "\n",
        "shuffle_out = group_by_key(map_out)\n",
        "shuffle_out = list(shuffle_out)\n",
        "print(\"Shuffle:\", shuffle_out)\n",
        "\n",
        "reduce_out = list(map(lambda x: REDUCE(*x), shuffle_out))\n",
        "print(\"Reduce:\", reduce_out)"
      ]
    },
    {
      "cell_type": "markdown",
      "metadata": {
        "id": "03IffTEOJgOb"
      },
      "source": [
        "#"
      ]
    },
    {
      "cell_type": "markdown",
      "metadata": {
        "id": "IIrRgvG4RIS4"
      },
      "source": [
        "### Matrix-Vector multiplication\n",
        "\n",
        "Случай, когда вектор не помещается в памяти Map задачи\n"
      ]
    },
    {
      "cell_type": "code",
      "execution_count": 132,
      "metadata": {
        "id": "KQhDbiL3zS9r"
      },
      "outputs": [],
      "source": []
    },
    {
      "cell_type": "markdown",
      "metadata": {
        "id": "GIo2t7nNxvA9"
      },
      "source": [
        "## Matrix multiplication (Перемножение матриц)\n",
        "\n",
        "Если у нас есть матрица $M$ с элементами $m_{ij}$ в строке $i$ и столбце $j$, и матрица $N$ с элементами $n_{jk}$ в строке $j$ и столбце $k$, тогда их произведение $P = MN$ есть матрица $P$ с элементами $p_{ik}$ в строке $i$ и столбце $k$, где\n",
        "\n",
        "$$p_{ik} =\\sum_{j} m_{ij}n_{jk}$$\n",
        "\n",
        "Необходимым требованием является одинаковое количество столбцов в $M$ и строк в $N$, чтобы операция суммирования по  $j$ была осмысленной. Мы можем размышлять о матрице, как об отношении с тремя атрибутами: номер строки, номер столбца, само значение. Таким образом матрица $M$ предстваляется как отношение $ M(I, J, V )$, с кортежами $(i, j, m_{ij})$, и, аналогично, матрица $N$ представляется как отношение $N(J, K, W)$, с кортежами $(j, k, n_{jk})$. Так как большие матрицы как правило разреженные (большинство значений равно 0), и так как мы можем нулевыми значениями пренебречь (не хранить), такое реляционное представление достаточно эффективно для больших матриц. Однако, возможно, что координаты $i$, $j$, и $k$ неявно закодированы в смещение позиции элемента относительно начала файла, вместо явного хранения. Тогда, функция Map (или Reader) должна быть разработана таким образом, чтобы реконструировать компоненты $I$, $J$, и $K$ кортежей из смещения.\n",
        "\n",
        "Произведение $MN$ это фактически join, за которым следуют группировка по ключу и аггрегация. Таким образом join отношений $M(I, J, V )$ и $N(J, K, W)$, имеющих общим только атрибут $J$, создаст кортежи $(i, j, k, v, w)$ из каждого кортежа $(i, j, v) \\in M$ и кортежа $(j, k, w) \\in N$. Такой 5 компонентный кортеж представляет пару элементов матрицы $(m_{ij} , n_{jk})$. Что нам хотелось бы получить на самом деле, это произведение этих элементов, то есть, 4 компонентный кортеж$(i, j, k, v \\times w)$, так как он представляет произведение $m_{ij}n_{jk}$. Мы представляем отношение как результат одной MapReduce операции, в которой мы можем произвести группировку и аггрегацию, с $I$ и $K$  атрибутами, по которым идёт группировка, и суммой  $V \\times W$.\n",
        "\n",
        "\n",
        "\n"
      ]
    },
    {
      "cell_type": "code",
      "execution_count": 134,
      "metadata": {
        "id": "1MBkGaLAYVCt"
      },
      "outputs": [],
      "source": [
        "# MapReduce model\n",
        "def flatten(nested_iterable):\n",
        "  for iterable in nested_iterable:\n",
        "    for element in iterable:\n",
        "      yield element\n",
        "\n",
        "def groupbykey(iterable):\n",
        "  t = {}\n",
        "  for (k2, v2) in iterable:\n",
        "    t[k2] = t.get(k2, []) + [v2]\n",
        "  return t.items()\n",
        "\n",
        "def MapReduce(RECORDREADER, MAP, REDUCE):\n",
        "  return flatten(map(lambda x: REDUCE(*x), groupbykey(flatten(map(lambda x: MAP(*x), RECORDREADER())))))"
      ]
    },
    {
      "cell_type": "markdown",
      "metadata": {
        "id": "sMspsOT0ZB35"
      },
      "source": [
        "Реализуйте перемножение матриц с использованием модельного кода MapReduce для одной машины в случае, когда одна матрица хранится в памяти, а другая генерируется RECORDREADER-ом."
      ]
    },
    {
      "cell_type": "code",
      "execution_count": 139,
      "metadata": {
        "id": "psP1XekbsEjS"
      },
      "outputs": [],
      "source": [
        "import numpy as np\n",
        "I = 2\n",
        "J = 3\n",
        "K = 4*10\n",
        "small_mat = np.random.rand(I,J) # it is legal to access this from RECORDREADER, MAP, REDUCE\n",
        "big_mat = np.random.rand(J,K)\n",
        "\n",
        "def RECORDREADER():\n",
        "  for j in range(big_mat.shape[0]):\n",
        "    for k in range(big_mat.shape[1]):\n",
        "      yield ((j,k), big_mat[j,k])\n",
        "\n",
        "def MAP(k1, v1):\n",
        "  (j, k) = k1\n",
        "  w = v1\n",
        "  for i in range(small_mat.shape[0]):\n",
        "    yield ((i, k), w * small_mat[i][j])\n",
        "\n",
        "def REDUCE(key, values):\n",
        "  (i, k) = key\n",
        "  el_value = 0\n",
        "  for v in values:\n",
        "    el_value += v\n",
        "  yield ((i, k), el_value)"
      ]
    },
    {
      "cell_type": "markdown",
      "metadata": {
        "id": "rnt306LHhHrm"
      },
      "source": [
        "Проверьте своё решение"
      ]
    },
    {
      "cell_type": "code",
      "execution_count": 141,
      "metadata": {
        "colab": {
          "base_uri": "https://localhost:8080/"
        },
        "id": "Ewy_ZNYqW5a2",
        "outputId": "5cdc0a87-ede5-4d84-8974-eaa180eccb20"
      },
      "outputs": [
        {
          "data": {
            "text/plain": [
              "True"
            ]
          },
          "execution_count": 141,
          "metadata": {},
          "output_type": "execute_result"
        }
      ],
      "source": [
        "# CHECK THE SOLUTION\n",
        "reference_solution = np.matmul(small_mat, big_mat)\n",
        "solution = MapReduce(RECORDREADER, MAP, REDUCE)\n",
        "\n",
        "def asmatrix(reduce_output):\n",
        "  reduce_output = list(reduce_output)\n",
        "  I = max(i for ((i,k), vw) in reduce_output)+1\n",
        "  K = max(k for ((i,k), vw) in reduce_output)+1\n",
        "  mat = np.empty(shape=(I,K))\n",
        "  for ((i,k), vw) in reduce_output:\n",
        "    mat[i,k] = vw\n",
        "  return mat\n",
        "\n",
        "np.allclose(reference_solution, asmatrix(solution)) # should return true"
      ]
    },
    {
      "cell_type": "code",
      "execution_count": 142,
      "metadata": {
        "colab": {
          "base_uri": "https://localhost:8080/"
        },
        "id": "TK7v4CEcfxqf",
        "outputId": "719d0044-2dfd-445a-b0d2-4206ec3c15b5"
      },
      "outputs": [
        {
          "data": {
            "text/plain": [
              "1"
            ]
          },
          "execution_count": 142,
          "metadata": {},
          "output_type": "execute_result"
        }
      ],
      "source": [
        "reduce_output = list(MapReduce(RECORDREADER, MAP, REDUCE))\n",
        "max(i for ((i,k), vw) in reduce_output)"
      ]
    },
    {
      "cell_type": "markdown",
      "metadata": {
        "id": "i4yyg3kOZqJJ"
      },
      "source": [
        "Реализуйте перемножение матриц  с использованием модельного кода MapReduce для одной машины в случае, когда обе матрицы генерируются в RECORDREADER. Например, сначала одна, а потом другая."
      ]
    },
    {
      "cell_type": "code",
      "execution_count": 155,
      "metadata": {
        "colab": {
          "base_uri": "https://localhost:8080/"
        },
        "id": "3B7rIAJCaHZq",
        "outputId": "f65c0b86-83fd-4baf-d827-c6f28a97f76f"
      },
      "outputs": [
        {
          "data": {
            "text/plain": [
              "True"
            ]
          },
          "execution_count": 155,
          "metadata": {},
          "output_type": "execute_result"
        }
      ],
      "source": [
        "import numpy as np\n",
        "I = 4\n",
        "J = 6\n",
        "K = 4*10\n",
        "small_mat = np.random.rand(I,J)\n",
        "big_mat = np.random.rand(J,K)\n",
        "ref_solution = np.matmul(small_mat, big_mat)\n",
        "\n",
        "def RECORDREADER():\n",
        "  for i in range(small_mat.shape[0]):\n",
        "    for j in range(small_mat.shape[1]):\n",
        "      yield ((0, i, j), small_mat[i,j])\n",
        "\n",
        "  for j in range(big_mat.shape[0]):\n",
        "    for k in range(big_mat.shape[1]):\n",
        "      yield ((1, j, k), big_mat[j,k])\n",
        "\n",
        "def MAP_JOIN(k1, v1):\n",
        "  (mat_num, i, j) = k1\n",
        "  w = v1\n",
        "  if mat_num == 0:\n",
        "    yield (j, (mat_num, i, w))\n",
        "  else:\n",
        "    yield (i, (mat_num, j, w))\n",
        "\n",
        "def REDUCE_JOIN(key, values):\n",
        "  from_first_mat = [v for v in values if v[0] == 0]\n",
        "  from_second_mat = [v for v in values if v[0] == 1]\n",
        "  for f in from_first_mat:\n",
        "    for s in from_second_mat:\n",
        "      yield ((f[1], s[1]), f[2] * s[2])\n",
        "\n",
        "\n",
        "def MAP_MUL(k1, v1):\n",
        "  (i, k) = k1\n",
        "  yield ((i, k), v1)\n",
        "\n",
        "def REDUCE_MUL(key, values):\n",
        "  res_el_value = 0\n",
        "  for v in values:\n",
        "    res_el_value += v\n",
        "  yield (key, res_el_value)\n",
        "\n",
        "def GET_JOINED():\n",
        "  for j in joined:\n",
        "    yield j\n",
        "\n",
        "\n",
        "joined = MapReduce(RECORDREADER, MAP_JOIN, REDUCE_JOIN)\n",
        "solution = MapReduce(GET_JOINED, MAP_MUL, REDUCE_MUL)\n",
        "np.allclose(ref_solution, asmatrix(solution))"
      ]
    },
    {
      "cell_type": "markdown",
      "metadata": {
        "id": "mXyzQi1DaIwo"
      },
      "source": [
        "Реализуйте перемножение матриц с использованием модельного кода MapReduce Distributed, когда каждая матрица генерируется в своём RECORDREADER."
      ]
    },
    {
      "cell_type": "code",
      "execution_count": 176,
      "metadata": {
        "colab": {
          "base_uri": "https://localhost:8080/"
        },
        "id": "TDM_s78Rb5eR",
        "outputId": "05693ed6-8ec3-403c-a2e7-35fc88c3dc4d"
      },
      "outputs": [
        {
          "name": "stdout",
          "output_type": "stream",
          "text": [
            "126 key-value pairs were sent over a network.\n",
            "[(0, [((0, 0), 0.007087209458049902), ((0, 1), 0.0020955852417110727), ((0, 2), 0.02710910639729179), ((0, 3), 0.008864124761888857), ((0, 4), 0.019579884164634385), ((0, 5), 0.010826338599294346), ((0, 6), 0.014120606831797052), ((0, 7), 0.01020225359623361), ((0, 8), 0.028497727178153062), ((0, 9), 0.020108307291192232), ((0, 10), 0.012080963849314914), ((0, 11), 0.026111209235602176), ((0, 12), 0.026792516103470564), ((0, 13), 0.021892479674505715), ((0, 14), 0.01437994893104167), ((0, 15), 0.0008222347820925993), ((0, 16), 0.018680201438278365), ((0, 17), 0.0009446101231139221), ((0, 18), 0.013302560301022181), ((0, 19), 0.004516011477449531), ((0, 20), 0.018086005021297976), ((0, 21), 0.010764112066918092), ((0, 22), 0.009403792416672734), ((0, 23), 0.002615553857765342), ((0, 24), 0.025294561311259074), ((0, 25), 0.01970288671492708), ((0, 26), 0.01923003747073442), ((0, 27), 0.009710986075224838), ((0, 28), 0.014437049915372275), ((0, 29), 0.02185629377383534), ((0, 30), 0.004801427179188446), ((0, 31), 0.008255518026993992), ((0, 32), 0.014527877882714096), ((0, 33), 0.027575554323108105), ((0, 34), 0.014298652812004573), ((0, 35), 0.013845841174395544), ((0, 36), 0.027082622221666408), ((0, 37), 0.0016608362467360872), ((0, 38), 0.014398705648530883), ((0, 39), 0.006180924845035381), ((1, 0), 0.19771216135263023), ((1, 1), 0.05846062401426105), ((1, 2), 0.756263808749031), ((1, 3), 0.2472828375605312), ((1, 4), 0.5462207996162691), ((1, 5), 0.30202279425657985), ((1, 6), 0.39392312487029274), ((1, 7), 0.2846126703491016), ((1, 8), 0.7950022173579961), ((1, 9), 0.5609622403876857), ((1, 10), 0.3370231242648035), ((1, 11), 0.7284254323311854), ((1, 12), 0.7474318768546571), ((1, 13), 0.6107353676274787), ((1, 14), 0.4011580016260717), ((1, 15), 0.022937916096467104), ((1, 16), 0.5211223151687078), ((1, 17), 0.026351825804202533), ((1, 18), 0.37110204858577384), ((1, 19), 0.12598335003146802), ((1, 20), 0.5045459943241553), ((1, 21), 0.30028685823233625), ((1, 22), 0.26233796737869025), ((1, 23), 0.07296620897321228), ((1, 24), 0.7056433730253721), ((1, 25), 0.5496522066057481), ((1, 26), 0.5364611126192282), ((1, 27), 0.27090776096891245), ((1, 28), 0.40275095003463657), ((1, 29), 0.6097258881314402), ((1, 30), 0.13394560310283496), ((1, 31), 0.23030451150962597), ((1, 32), 0.4052847814164677), ((1, 33), 0.7692763249047155), ((1, 34), 0.3988900805917711), ((1, 35), 0.38625797650521587), ((1, 36), 0.7555249786586362), ((1, 37), 0.04633241418059271), ((1, 38), 0.40168125851252656), ((1, 39), 0.17242950381296768), ((0, 0), 0.43551739651051236), ((0, 1), 0.03266768444901), ((0, 2), 0.35171157686136445), ((0, 3), 0.267657472269126), ((0, 4), 0.0022531894353862193), ((0, 5), 0.5558511573652992), ((0, 6), 0.3427978464773297), ((0, 7), 0.342749876328193), ((0, 8), 0.041328366951389146), ((0, 9), 0.37245122697693733), ((0, 10), 0.1877766250769967), ((0, 11), 0.3957501971601139), ((0, 12), 0.2379855769796058), ((0, 13), 0.10570266241332901), ((0, 14), 0.15383085621643558), ((0, 15), 0.05227404669053143), ((0, 16), 0.05464559395335792), ((0, 17), 0.8596169743643158), ((0, 18), 0.31806112613224724), ((0, 19), 0.45092974416515774), ((0, 20), 0.7991057384397754), ((0, 21), 0.869003883541906), ((0, 22), 0.4060114236619416), ((0, 23), 0.2859545821277177), ((0, 24), 0.5580408420053011), ((0, 25), 0.4088706605828354), ((0, 26), 0.3670351562947177), ((0, 27), 0.5625657013711103), ((0, 28), 0.5206512030680832), ((0, 29), 0.7706610549684232), ((0, 30), 0.03260295154947417), ((0, 31), 0.4998175066173457), ((0, 32), 0.028030484704686505), ((0, 33), 0.1417735967845565), ((0, 34), 0.7392501201810692), ((0, 35), 0.7967445123227583), ((0, 36), 0.09597903202310898), ((0, 37), 0.7501456808728013), ((0, 38), 0.554215140352446), ((0, 39), 0.15719949795072216), ((1, 0), 0.3368747824200212), ((1, 1), 0.02526860965624027), ((1, 2), 0.27205058139833643), ((1, 3), 0.20703433078953545), ((1, 4), 0.0017428527697825305), ((1, 5), 0.4299535201019974), ((1, 6), 0.2651557684523283), ((1, 7), 0.2651186633132855), ((1, 8), 0.03196768885944596), ((1, 9), 0.28809279963377343), ((1, 10), 0.145246114674669), ((1, 11), 0.3061146641424136), ((1, 12), 0.18408297832982837), ((1, 13), 0.08176151328744376), ((1, 14), 0.11898890063314944), ((1, 15), 0.04043422431843488), ((1, 16), 0.0422686274319835), ((1, 17), 0.6649178276775127), ((1, 18), 0.24602179733934335), ((1, 19), 0.34879630680536244), ((1, 20), 0.6181120982178536), ((1, 21), 0.6721786466760964), ((1, 22), 0.31405177175938187), ((1, 23), 0.22118723249200398), ((1, 24), 0.4316472516098071), ((1, 25), 0.31626340514838275), ((1, 26), 0.28390344314132815), ((1, 27), 0.43514725190038417), ((1, 28), 0.4027261876462132), ((1, 29), 0.5961099999499218), ((1, 30), 0.025218538449851564), ((1, 31), 0.3866112241221842), ((1, 32), 0.021681713547328008), ((1, 33), 0.1096625529826533), ((1, 34), 0.5718134921482089), ((1, 35), 0.6162856785597921), ((1, 36), 0.07424023882565767), ((1, 37), 0.5802412602850961), ((1, 38), 0.4286880531432578), ((1, 39), 0.12159456107376838)]), (1, [((0, 0), 0.6980390291078956), ((0, 1), 0.6758244646342226), ((0, 2), 0.5690525361522546), ((0, 3), 0.669194228617706), ((0, 4), 0.5339960818019422), ((0, 5), 0.061148667334532815), ((0, 6), 0.03157908312146536), ((0, 7), 0.317780472791457), ((0, 8), 0.42362675014337664), ((0, 9), 0.2542553856469487), ((0, 10), 0.6899521161149893), ((0, 11), 0.4435760685513776), ((0, 12), 0.37063037434124485), ((0, 13), 0.7506592692826493), ((0, 14), 0.7826268064985966), ((0, 15), 0.19857334365673798), ((0, 16), 0.8271283562342389), ((0, 17), 0.7819065396197988), ((0, 18), 0.25606641331543445), ((0, 19), 0.14748861581799289), ((0, 20), 0.18609085788531893), ((0, 21), 0.3893920928321318), ((0, 22), 0.42638514274429834), ((0, 23), 0.864705469467458), ((0, 24), 0.09116980410681401), ((0, 25), 0.13305303931025492), ((0, 26), 0.42522665323942044), ((0, 27), 0.43642500160197023), ((0, 28), 0.06940954645513732), ((0, 29), 0.1643329506733814), ((0, 30), 0.7799651033670576), ((0, 31), 0.16245604538466785), ((0, 32), 0.4026665530532767), ((0, 33), 0.7807055794670854), ((0, 34), 0.06340783317332924), ((0, 35), 0.818290277189249), ((0, 36), 0.9143577246155291), ((0, 37), 0.7699243645668407), ((0, 38), 0.5492544873062482), ((0, 39), 0.30012528531600063), ((1, 0), 0.20886580306540142), ((1, 1), 0.2022188067585163), ((1, 2), 0.1702707298497955), ((1, 3), 0.20023492116995156), ((1, 4), 0.15978120965797854), ((1, 5), 0.018296778513271546), ((1, 6), 0.009449028322475673), ((1, 7), 0.09508561968650509), ((1, 8), 0.12675672516730585), ((1, 9), 0.07607777372380252), ((1, 10), 0.2064460535870061), ((1, 11), 0.13272591920394824), ((1, 12), 0.11089925856459368), ((1, 13), 0.2246107231390545), ((1, 14), 0.2341759838969883), ((1, 15), 0.05941670760623861), ((1, 16), 0.24749164611012958), ((1, 17), 0.23396046712244095), ((1, 18), 0.07661966569914859), ((1, 19), 0.0441312403766294), ((1, 20), 0.055681723878707096), ((1, 21), 0.11651310139583798), ((1, 22), 0.12758208572987706), ((1, 23), 0.25873539267021295), ((1, 24), 0.027279641332407057), ((1, 25), 0.039811856854687834), ((1, 26), 0.1272354448821749), ((1, 27), 0.13058619165451413), ((1, 28), 0.020768581778708398), ((1, 29), 0.0491713676187545), ((1, 30), 0.23337955455864445), ((1, 31), 0.04860976387733353), ((1, 32), 0.12048505808985345), ((1, 33), 0.23360111829481647), ((1, 34), 0.018972761470529943), ((1, 35), 0.2448471342700875), ((1, 36), 0.27359223836659746), ((1, 37), 0.2303751853394083), ((1, 38), 0.16434679838047073), ((1, 39), 0.08980287079058136)])]\n",
            "join-part (0, [((0, 0), 0.007087209458049902), ((0, 1), 0.0020955852417110727), ((0, 2), 0.02710910639729179), ((0, 3), 0.008864124761888857), ((0, 4), 0.019579884164634385), ((0, 5), 0.010826338599294346), ((0, 6), 0.014120606831797052), ((0, 7), 0.01020225359623361), ((0, 8), 0.028497727178153062), ((0, 9), 0.020108307291192232), ((0, 10), 0.012080963849314914), ((0, 11), 0.026111209235602176), ((0, 12), 0.026792516103470564), ((0, 13), 0.021892479674505715), ((0, 14), 0.01437994893104167), ((0, 15), 0.0008222347820925993), ((0, 16), 0.018680201438278365), ((0, 17), 0.0009446101231139221), ((0, 18), 0.013302560301022181), ((0, 19), 0.004516011477449531), ((0, 20), 0.018086005021297976), ((0, 21), 0.010764112066918092), ((0, 22), 0.009403792416672734), ((0, 23), 0.002615553857765342), ((0, 24), 0.025294561311259074), ((0, 25), 0.01970288671492708), ((0, 26), 0.01923003747073442), ((0, 27), 0.009710986075224838), ((0, 28), 0.014437049915372275), ((0, 29), 0.02185629377383534), ((0, 30), 0.004801427179188446), ((0, 31), 0.008255518026993992), ((0, 32), 0.014527877882714096), ((0, 33), 0.027575554323108105), ((0, 34), 0.014298652812004573), ((0, 35), 0.013845841174395544), ((0, 36), 0.027082622221666408), ((0, 37), 0.0016608362467360872), ((0, 38), 0.014398705648530883), ((0, 39), 0.006180924845035381), ((1, 0), 0.19771216135263023), ((1, 1), 0.05846062401426105), ((1, 2), 0.756263808749031), ((1, 3), 0.2472828375605312), ((1, 4), 0.5462207996162691), ((1, 5), 0.30202279425657985), ((1, 6), 0.39392312487029274), ((1, 7), 0.2846126703491016), ((1, 8), 0.7950022173579961), ((1, 9), 0.5609622403876857), ((1, 10), 0.3370231242648035), ((1, 11), 0.7284254323311854), ((1, 12), 0.7474318768546571), ((1, 13), 0.6107353676274787), ((1, 14), 0.4011580016260717), ((1, 15), 0.022937916096467104), ((1, 16), 0.5211223151687078), ((1, 17), 0.026351825804202533), ((1, 18), 0.37110204858577384), ((1, 19), 0.12598335003146802), ((1, 20), 0.5045459943241553), ((1, 21), 0.30028685823233625), ((1, 22), 0.26233796737869025), ((1, 23), 0.07296620897321228), ((1, 24), 0.7056433730253721), ((1, 25), 0.5496522066057481), ((1, 26), 0.5364611126192282), ((1, 27), 0.27090776096891245), ((1, 28), 0.40275095003463657), ((1, 29), 0.6097258881314402), ((1, 30), 0.13394560310283496), ((1, 31), 0.23030451150962597), ((1, 32), 0.4052847814164677), ((1, 33), 0.7692763249047155), ((1, 34), 0.3988900805917711), ((1, 35), 0.38625797650521587), ((1, 36), 0.7555249786586362), ((1, 37), 0.04633241418059271), ((1, 38), 0.40168125851252656), ((1, 39), 0.17242950381296768), ((0, 0), 0.43551739651051236), ((0, 1), 0.03266768444901), ((0, 2), 0.35171157686136445), ((0, 3), 0.267657472269126), ((0, 4), 0.0022531894353862193), ((0, 5), 0.5558511573652992), ((0, 6), 0.3427978464773297), ((0, 7), 0.342749876328193), ((0, 8), 0.041328366951389146), ((0, 9), 0.37245122697693733), ((0, 10), 0.1877766250769967), ((0, 11), 0.3957501971601139), ((0, 12), 0.2379855769796058), ((0, 13), 0.10570266241332901), ((0, 14), 0.15383085621643558), ((0, 15), 0.05227404669053143), ((0, 16), 0.05464559395335792), ((0, 17), 0.8596169743643158), ((0, 18), 0.31806112613224724), ((0, 19), 0.45092974416515774), ((0, 20), 0.7991057384397754), ((0, 21), 0.869003883541906), ((0, 22), 0.4060114236619416), ((0, 23), 0.2859545821277177), ((0, 24), 0.5580408420053011), ((0, 25), 0.4088706605828354), ((0, 26), 0.3670351562947177), ((0, 27), 0.5625657013711103), ((0, 28), 0.5206512030680832), ((0, 29), 0.7706610549684232), ((0, 30), 0.03260295154947417), ((0, 31), 0.4998175066173457), ((0, 32), 0.028030484704686505), ((0, 33), 0.1417735967845565), ((0, 34), 0.7392501201810692), ((0, 35), 0.7967445123227583), ((0, 36), 0.09597903202310898), ((0, 37), 0.7501456808728013), ((0, 38), 0.554215140352446), ((0, 39), 0.15719949795072216), ((1, 0), 0.3368747824200212), ((1, 1), 0.02526860965624027), ((1, 2), 0.27205058139833643), ((1, 3), 0.20703433078953545), ((1, 4), 0.0017428527697825305), ((1, 5), 0.4299535201019974), ((1, 6), 0.2651557684523283), ((1, 7), 0.2651186633132855), ((1, 8), 0.03196768885944596), ((1, 9), 0.28809279963377343), ((1, 10), 0.145246114674669), ((1, 11), 0.3061146641424136), ((1, 12), 0.18408297832982837), ((1, 13), 0.08176151328744376), ((1, 14), 0.11898890063314944), ((1, 15), 0.04043422431843488), ((1, 16), 0.0422686274319835), ((1, 17), 0.6649178276775127), ((1, 18), 0.24602179733934335), ((1, 19), 0.34879630680536244), ((1, 20), 0.6181120982178536), ((1, 21), 0.6721786466760964), ((1, 22), 0.31405177175938187), ((1, 23), 0.22118723249200398), ((1, 24), 0.4316472516098071), ((1, 25), 0.31626340514838275), ((1, 26), 0.28390344314132815), ((1, 27), 0.43514725190038417), ((1, 28), 0.4027261876462132), ((1, 29), 0.5961099999499218), ((1, 30), 0.025218538449851564), ((1, 31), 0.3866112241221842), ((1, 32), 0.021681713547328008), ((1, 33), 0.1096625529826533), ((1, 34), 0.5718134921482089), ((1, 35), 0.6162856785597921), ((1, 36), 0.07424023882565767), ((1, 37), 0.5802412602850961), ((1, 38), 0.4286880531432578), ((1, 39), 0.12159456107376838)])\n",
            "join-part (1, [((0, 0), 0.6980390291078956), ((0, 1), 0.6758244646342226), ((0, 2), 0.5690525361522546), ((0, 3), 0.669194228617706), ((0, 4), 0.5339960818019422), ((0, 5), 0.061148667334532815), ((0, 6), 0.03157908312146536), ((0, 7), 0.317780472791457), ((0, 8), 0.42362675014337664), ((0, 9), 0.2542553856469487), ((0, 10), 0.6899521161149893), ((0, 11), 0.4435760685513776), ((0, 12), 0.37063037434124485), ((0, 13), 0.7506592692826493), ((0, 14), 0.7826268064985966), ((0, 15), 0.19857334365673798), ((0, 16), 0.8271283562342389), ((0, 17), 0.7819065396197988), ((0, 18), 0.25606641331543445), ((0, 19), 0.14748861581799289), ((0, 20), 0.18609085788531893), ((0, 21), 0.3893920928321318), ((0, 22), 0.42638514274429834), ((0, 23), 0.864705469467458), ((0, 24), 0.09116980410681401), ((0, 25), 0.13305303931025492), ((0, 26), 0.42522665323942044), ((0, 27), 0.43642500160197023), ((0, 28), 0.06940954645513732), ((0, 29), 0.1643329506733814), ((0, 30), 0.7799651033670576), ((0, 31), 0.16245604538466785), ((0, 32), 0.4026665530532767), ((0, 33), 0.7807055794670854), ((0, 34), 0.06340783317332924), ((0, 35), 0.818290277189249), ((0, 36), 0.9143577246155291), ((0, 37), 0.7699243645668407), ((0, 38), 0.5492544873062482), ((0, 39), 0.30012528531600063), ((1, 0), 0.20886580306540142), ((1, 1), 0.2022188067585163), ((1, 2), 0.1702707298497955), ((1, 3), 0.20023492116995156), ((1, 4), 0.15978120965797854), ((1, 5), 0.018296778513271546), ((1, 6), 0.009449028322475673), ((1, 7), 0.09508561968650509), ((1, 8), 0.12675672516730585), ((1, 9), 0.07607777372380252), ((1, 10), 0.2064460535870061), ((1, 11), 0.13272591920394824), ((1, 12), 0.11089925856459368), ((1, 13), 0.2246107231390545), ((1, 14), 0.2341759838969883), ((1, 15), 0.05941670760623861), ((1, 16), 0.24749164611012958), ((1, 17), 0.23396046712244095), ((1, 18), 0.07661966569914859), ((1, 19), 0.0441312403766294), ((1, 20), 0.055681723878707096), ((1, 21), 0.11651310139583798), ((1, 22), 0.12758208572987706), ((1, 23), 0.25873539267021295), ((1, 24), 0.027279641332407057), ((1, 25), 0.039811856854687834), ((1, 26), 0.1272354448821749), ((1, 27), 0.13058619165451413), ((1, 28), 0.020768581778708398), ((1, 29), 0.0491713676187545), ((1, 30), 0.23337955455864445), ((1, 31), 0.04860976387733353), ((1, 32), 0.12048505808985345), ((1, 33), 0.23360111829481647), ((1, 34), 0.018972761470529943), ((1, 35), 0.2448471342700875), ((1, 36), 0.27359223836659746), ((1, 37), 0.2303751853394083), ((1, 38), 0.16434679838047073), ((1, 39), 0.08980287079058136)])\n",
            "240 key-value pairs were sent over a network.\n",
            "[(0, [((0, 1), 0.7105877343249437), ((0, 2), 0.9478732194109108), ((0, 4), 0.5558291554019629), ((0, 5), 0.6278261632991264), ((0, 8), 0.49345284427291886), ((0, 9), 0.6468149199150783), ((0, 11), 0.8654374749470937), ((0, 12), 0.6354084674243212), ((0, 15), 0.25166962512936203), ((0, 16), 0.9004541516258752), ((0, 18), 0.5874300997487039), ((0, 19), 0.6029343714606001), ((0, 22), 0.8418003588229126), ((0, 23), 1.153275605452941), ((0, 25), 0.5616265866080175), ((0, 26), 0.8114918470048726), ((0, 29), 0.9568502994156399), ((0, 32), 0.4452249156406773), ((0, 33), 0.95005473057475), ((0, 36), 1.0374193788603046), ((0, 39), 0.4635057081117582), ((1, 0), 0.743452746838053), ((1, 1), 0.2859480404290176), ((1, 3), 0.6545520895200182), ((1, 4), 0.7077448620440301), ((1, 7), 0.6448169533488921), ((1, 10), 0.6887152925264786), ((1, 11), 1.1672660156775474), ((1, 14), 0.7543228861562095), ((1, 17), 0.9252301206041562), ((1, 18), 0.6937435116242657), ((1, 21), 1.0889786063042706), ((1, 24), 1.1645702659675863), ((1, 25), 0.9057274686088187), ((1, 27), 0.8366412045238107), ((1, 28), 0.8262457194595583), ((1, 31), 0.6655254995091436), ((1, 32), 0.5474515530536491), ((1, 34), 0.9896763342105099), ((1, 35), 1.2473907893350955), ((1, 38), 0.9947161100362552), ((1, 39), 0.3838269356773174)]), (1, [((0, 0), 1.140643635076458), ((0, 3), 0.9457158256487209), ((0, 6), 0.3884975364305921), ((0, 7), 0.6707326027158835), ((0, 10), 0.889809705041301), ((0, 13), 0.878254411370484), ((0, 14), 0.9508376116460738), ((0, 17), 1.6424681241072285), ((0, 20), 1.0032826013463922), ((0, 21), 1.269160088440956), ((0, 24), 0.6745052074233742), ((0, 27), 1.0087016890483054), ((0, 28), 0.6044977994385928), ((0, 30), 0.8173694820957202), ((0, 31), 0.6705290700290075), ((0, 34), 0.816956606166403), ((0, 35), 1.6288806306864028), ((0, 37), 1.521730881686378), ((0, 38), 1.117868333307225), ((1, 2), 1.1985851199971629), ((1, 5), 0.7502730928718487), ((1, 6), 0.6685279216450967), ((1, 8), 0.953726631384748), ((1, 9), 0.9251328137452617), ((1, 12), 1.042414113749079), ((1, 13), 0.917107604053977), ((1, 15), 0.1227888480211406), ((1, 16), 0.8108825887108209), ((1, 19), 0.5189108972134598), ((1, 20), 1.178339816420716), ((1, 22), 0.7039718248679492), ((1, 23), 0.5528888341354292), ((1, 26), 0.9476000006427312), ((1, 29), 1.2550072557001164), ((1, 30), 0.392543696111331), ((1, 33), 1.1125399961821854), ((1, 36), 1.1033574558508914), ((1, 37), 0.8569488598050972)])]\n",
            "[((0, 1), 0.7105877343249437), ((0, 2), 0.9478732194109108), ((0, 4), 0.5558291554019629), ((0, 5), 0.6278261632991264), ((0, 8), 0.49345284427291886), ((0, 9), 0.6468149199150783), ((0, 11), 0.8654374749470937), ((0, 12), 0.6354084674243212), ((0, 15), 0.25166962512936203), ((0, 16), 0.9004541516258752), ((0, 18), 0.5874300997487039), ((0, 19), 0.6029343714606001), ((0, 22), 0.8418003588229126), ((0, 23), 1.153275605452941), ((0, 25), 0.5616265866080175), ((0, 26), 0.8114918470048726), ((0, 29), 0.9568502994156399), ((0, 32), 0.4452249156406773), ((0, 33), 0.95005473057475), ((0, 36), 1.0374193788603046), ((0, 39), 0.4635057081117582), ((1, 0), 0.743452746838053), ((1, 1), 0.2859480404290176), ((1, 3), 0.6545520895200182), ((1, 4), 0.7077448620440301), ((1, 7), 0.6448169533488921), ((1, 10), 0.6887152925264786), ((1, 11), 1.1672660156775474), ((1, 14), 0.7543228861562095), ((1, 17), 0.9252301206041562), ((1, 18), 0.6937435116242657), ((1, 21), 1.0889786063042706), ((1, 24), 1.1645702659675863), ((1, 25), 0.9057274686088187), ((1, 27), 0.8366412045238107), ((1, 28), 0.8262457194595583), ((1, 31), 0.6655254995091436), ((1, 32), 0.5474515530536491), ((1, 34), 0.9896763342105099), ((1, 35), 1.2473907893350955), ((1, 38), 0.9947161100362552), ((1, 39), 0.3838269356773174), ((0, 0), 1.140643635076458), ((0, 3), 0.9457158256487209), ((0, 6), 0.3884975364305921), ((0, 7), 0.6707326027158835), ((0, 10), 0.889809705041301), ((0, 13), 0.878254411370484), ((0, 14), 0.9508376116460738), ((0, 17), 1.6424681241072285), ((0, 20), 1.0032826013463922), ((0, 21), 1.269160088440956), ((0, 24), 0.6745052074233742), ((0, 27), 1.0087016890483054), ((0, 28), 0.6044977994385928), ((0, 30), 0.8173694820957202), ((0, 31), 0.6705290700290075), ((0, 34), 0.816956606166403), ((0, 35), 1.6288806306864028), ((0, 37), 1.521730881686378), ((0, 38), 1.117868333307225), ((1, 2), 1.1985851199971629), ((1, 5), 0.7502730928718487), ((1, 6), 0.6685279216450967), ((1, 8), 0.953726631384748), ((1, 9), 0.9251328137452617), ((1, 12), 1.042414113749079), ((1, 13), 0.917107604053977), ((1, 15), 0.1227888480211406), ((1, 16), 0.8108825887108209), ((1, 19), 0.5189108972134598), ((1, 20), 1.178339816420716), ((1, 22), 0.7039718248679492), ((1, 23), 0.5528888341354292), ((1, 26), 0.9476000006427312), ((1, 29), 1.2550072557001164), ((1, 30), 0.392543696111331), ((1, 33), 1.1125399961821854), ((1, 36), 1.1033574558508914), ((1, 37), 0.8569488598050972)]\n"
          ]
        },
        {
          "data": {
            "text/plain": [
              "True"
            ]
          },
          "execution_count": 176,
          "metadata": {},
          "output_type": "execute_result"
        }
      ],
      "source": [
        "I = 2\n",
        "J = 3\n",
        "K = 4*10\n",
        "\n",
        "small_mat = np.random.rand(I, J)\n",
        "big_mat = np.random.rand(J, K)\n",
        "\n",
        "reference_solution = np.matmul(small_mat, big_mat)\n",
        "\n",
        "def flatten(nested_iterable):\n",
        "  for iterable in nested_iterable:\n",
        "    for element in iterable:\n",
        "      yield element\n",
        "\n",
        "def groupbykey(iterable):\n",
        "  t = {}\n",
        "  for (k2, v2) in iterable:\n",
        "    t[k2] = t.get(k2, []) + [v2]\n",
        "  return t.items()\n",
        "\n",
        "def groupbykey_distributed(map_partitions, PARTITIONER):\n",
        "  global reducers\n",
        "  partitions = [dict() for _ in range(reducers)]\n",
        "  for map_partition in map_partitions:\n",
        "    for (k2, v2) in map_partition:\n",
        "      p = partitions[PARTITIONER(k2)]\n",
        "      p[k2] = p.get(k2, []) + [v2]\n",
        "  return [(partition_id, sorted(partition.items(), key=lambda x: x[0])) for (partition_id, partition) in enumerate(partitions)]\n",
        "\n",
        "def PARTITIONER(obj):\n",
        "  global reducers\n",
        "  return hash(obj) % reducers\n",
        "\n",
        "def MapReduceDistributed(INPUTFORMAT, MAP, REDUCE, PARTITIONER=PARTITIONER, COMBINER=None):\n",
        "\n",
        "  map_partitions = map(lambda record_reader: flatten(map(lambda k1v1: MAP(*k1v1), record_reader)), INPUTFORMAT())\n",
        "\n",
        "  if COMBINER != None:\n",
        "    map_partitions = map(lambda map_partition: flatten(map(lambda k2v2: COMBINER(*k2v2), groupbykey(map_partition))), map_partitions)\n",
        "\n",
        "  reduce_partitions = groupbykey_distributed(map_partitions, PARTITIONER)\n",
        "  reduce_outputs = map(lambda reduce_partition: (reduce_partition[0], flatten(map(lambda reduce_input_group: REDUCE(*reduce_input_group), reduce_partition[1]))), reduce_partitions)\n",
        "\n",
        "  print(\"{} key-value pairs were sent over a network.\".format(sum([len(vs) for (k,vs) in flatten([partition for (partition_id, partition) in reduce_partitions])])))\n",
        "  return reduce_outputs\n",
        "\n",
        "def asmatrix(reduce_output):\n",
        "  reduce_output = list(reduce_output)\n",
        "  I = max(i for ((i,k), vw) in reduce_output) + 1\n",
        "  K = max(k for ((i,k), vw) in reduce_output) + 1\n",
        "  mat = np.empty(shape=(I,K))\n",
        "  for ((i,k), vw) in reduce_output:\n",
        "    mat[i,k] = vw\n",
        "  return mat\n",
        "\n",
        "def INPUTFORMAT():\n",
        "  first_mat = []\n",
        "  for i in range(small_mat.shape[0]):\n",
        "    for j in range(small_mat.shape[1]):\n",
        "      first_mat.append(((0, i, j), small_mat[i,j]))\n",
        "  yield first_mat\n",
        "\n",
        "  second_mat = []\n",
        "  for j in range(big_mat.shape[0]):\n",
        "    for k in range(big_mat.shape[1]):\n",
        "      second_mat.append(((1, j, k), big_mat[j,k]))\n",
        "  yield second_mat\n",
        "\n",
        "def MAP_JOIN(k1, v1):\n",
        "  (mat_num, i, j) = k1\n",
        "  w = v1\n",
        "  if mat_num == 0:\n",
        "    yield (j, (mat_num, i, w))\n",
        "  else:\n",
        "    yield (i, (mat_num, j, w))\n",
        "\n",
        "def REDUCE_JOIN(key, values):\n",
        "  from_first_mat = [v for v in values if v[0] == 0]\n",
        "  from_second_mat = [v for v in values if v[0] == 1]\n",
        "  for f in from_first_mat:\n",
        "    for s in from_second_mat:\n",
        "      yield ((f[1], s[1]), f[2] * s[2])\n",
        "\n",
        "def GET_JOINED():\n",
        "  for j in joined:\n",
        "    print(\"join-part\", j)\n",
        "    yield j[1]\n",
        "\n",
        "def MAP_MUL(k1, v1):\n",
        "  yield (k1, v1)\n",
        "\n",
        "def REDUCE_MUL(key, values):\n",
        "  res_val = 0\n",
        "  for v in values:\n",
        "    res_val += v\n",
        "  yield (key, res_val)\n",
        "\n",
        "maps = 4\n",
        "reducers = 2\n",
        "\n",
        "partitioned_out = MapReduceDistributed(INPUTFORMAT, MAP_JOIN, REDUCE_JOIN, COMBINER=None)\n",
        "joined = [(partition_id, list(partition)) for (partition_id, partition) in partitioned_out]\n",
        "\n",
        "print(joined)\n",
        "mul_out = MapReduceDistributed(GET_JOINED, MAP_MUL, REDUCE_MUL, COMBINER=None)\n",
        "pre_result = [(partition_id, list(partition)) for (partition_id, partition) in mul_out]\n",
        "print(pre_result)\n",
        "\n",
        "solution = []\n",
        "for p in pre_result:\n",
        "  for v in p[1]:\n",
        "    solution.append(v)\n",
        "\n",
        "print(solution)\n",
        "np.allclose(reference_solution, asmatrix(solution))"
      ]
    },
    {
      "cell_type": "markdown",
      "metadata": {
        "id": "ZuSA2P9Db6UM"
      },
      "source": [
        "Обобщите предыдущее решение на случай, когда каждая матрица генерируется несколькими RECORDREADER-ами, и проверьте его работоспособность. Будет ли работать решение, если RECORDREADER-ы будут генерировать случайное подмножество элементов матрицы?"
      ]
    },
    {
      "cell_type": "code",
      "execution_count": 181,
      "metadata": {
        "colab": {
          "base_uri": "https://localhost:8080/"
        },
        "id": "ehN0FqRDcwU5",
        "outputId": "fe044d79-b8a6-4e3e-ac1f-a6aac8bb316d"
      },
      "outputs": [
        {
          "name": "stdout",
          "output_type": "stream",
          "text": [
            "126 key-value pairs were sent over a network.\n",
            "[(0, [((0, 0), 0.7011604684448118), ((0, 1), 0.18975510935525958), ((0, 2), 0.23738178143124705), ((0, 3), 0.6512765707028215), ((0, 4), 0.10420419646816508), ((0, 5), 0.6278678661160831), ((0, 6), 0.30288538540262444), ((0, 7), 0.11149222375874322), ((0, 8), 0.18459529380932196), ((0, 9), 0.8332633170038758), ((0, 10), 0.8107711930894654), ((0, 11), 0.12358753376815662), ((0, 12), 0.8547137713123574), ((0, 13), 0.7598895526551793), ((0, 14), 0.5642155626363611), ((0, 15), 0.3258193990400772), ((0, 16), 0.049781148593306276), ((0, 17), 0.309088527818102), ((0, 18), 0.022356631090946624), ((0, 19), 0.02059045749555236), ((0, 20), 0.5163088527583863), ((0, 21), 0.13329130659548527), ((0, 22), 0.31482785150256604), ((0, 23), 0.7130666673162585), ((0, 24), 0.006212632115637883), ((0, 25), 0.4084514022245116), ((0, 26), 0.36253710261404776), ((0, 27), 0.0005851565850484897), ((0, 28), 0.4379022896972274), ((0, 29), 0.5364970273211388), ((0, 30), 0.39302944213270113), ((0, 31), 0.6793158817884254), ((0, 32), 0.06827575253901884), ((0, 33), 0.7056444468108177), ((0, 34), 0.25677866148732226), ((0, 35), 0.008041474779946663), ((0, 36), 0.29327950705082984), ((0, 37), 0.18983331761132236), ((0, 38), 0.07643483608657323), ((0, 39), 0.011744624811443817), ((1, 0), 0.3796273168049027), ((1, 1), 0.10273856878203058), ((1, 2), 0.12852494229030434), ((1, 3), 0.35261882002874356), ((1, 4), 0.0564189815104131), ((1, 5), 0.33994471172960805), ((1, 6), 0.16399037215382814), ((1, 7), 0.06036491738335209), ((1, 8), 0.09994490453672994), ((1, 9), 0.451151386112454), ((1, 10), 0.4389735394779884), ((1, 11), 0.06691364665638369), ((1, 12), 0.4627652445369553), ((1, 13), 0.4114248377156895), ((1, 14), 0.30548162622215663), ((1, 15), 0.17640746988334527), ((1, 16), 0.026952865597029158), ((1, 17), 0.16734892189661324), ((1, 18), 0.012104487140693893), ((1, 19), 0.011148232797778143), ((1, 20), 0.27954363264378945), ((1, 21), 0.07216753275965172), ((1, 22), 0.17045634758397488), ((1, 23), 0.3860736561727483), ((1, 24), 0.003363687724133596), ((1, 25), 0.22114668018237837), ((1, 26), 0.19628743162440193), ((1, 27), 0.00031681966438494764), ((1, 28), 0.23709219036436066), ((1, 29), 0.2904740585382292), ((1, 30), 0.21279681222346175), ((1, 31), 0.3678000644250448), ((1, 32), 0.03696634637248285), ((1, 33), 0.38205506444942355), ((1, 34), 0.13902693985215625), ((1, 35), 0.004353872802664614), ((1, 36), 0.15878948877782373), ((1, 37), 0.1027809128555163), ((1, 38), 0.041383895755458214), ((1, 39), 0.006358858784406264), ((0, 0), 0.1370580365028043), ((0, 1), 0.4550310782016065), ((0, 2), 0.32608771417751653), ((0, 3), 0.013656834653123421), ((0, 4), 0.6718178194739882), ((0, 5), 0.27866883016490523), ((0, 6), 0.09867037455051651), ((0, 7), 0.6558660527753061), ((0, 8), 0.13625408558169186), ((0, 9), 0.3945072789597715), ((0, 10), 0.6526187806042913), ((0, 11), 0.6516870652864589), ((0, 12), 0.4754997306600618), ((0, 13), 0.1883526619613448), ((0, 14), 0.5109723578367262), ((0, 15), 0.04657233319817994), ((0, 16), 0.03581783620579973), ((0, 17), 0.0013841460194901978), ((0, 18), 0.3249476623076367), ((0, 19), 0.22223503371286044), ((0, 20), 0.6306992868074326), ((0, 21), 0.34347688123178494), ((0, 22), 0.4431472488097849), ((0, 23), 0.1843440505576748), ((0, 24), 0.6013235581750537), ((0, 25), 0.4715420391506149), ((0, 26), 0.2734987876645345), ((0, 27), 0.7151832134719607), ((0, 28), 0.6615374661825146), ((0, 29), 0.22248900614903683), ((0, 30), 0.0759129693773049), ((0, 31), 0.3961737428655309), ((0, 32), 0.16344083006917876), ((0, 33), 0.7174480729824109), ((0, 34), 0.5492828611678107), ((0, 35), 0.16785107867255217), ((0, 36), 0.720083770840536), ((0, 37), 0.7124246918622714), ((0, 38), 0.13947420893635393), ((0, 39), 0.0802964594715453), ((1, 0), 0.12743602689812292), ((1, 1), 0.4230861188500635), ((1, 2), 0.30319508272120305), ((1, 3), 0.012698071507562013), ((1, 4), 0.6246535839682318), ((1, 5), 0.25910518961678475), ((1, 6), 0.09174332878327941), ((1, 7), 0.6098216936102794), ((1, 8), 0.12668851647245327), ((1, 9), 0.36681132676225137), ((1, 10), 0.6068023926317301), ((1, 11), 0.6059360873691251), ((1, 12), 0.4421177919414161), ((1, 13), 0.17512956925767628), ((1, 14), 0.4751001021099993), ((1, 15), 0.04330277346436499), ((1, 16), 0.03330328417525129), ((1, 17), 0.0012869735615034406), ((1, 18), 0.30213506694640907), ((1, 19), 0.20663326614457866), ((1, 20), 0.5864217329319059), ((1, 21), 0.3193634623143133), ((1, 22), 0.4120365807078919), ((1, 23), 0.17140237803491454), ((1, 24), 0.5591082952111547), ((1, 25), 0.43843794583737505), ((1, 26), 0.25429810429765276), ((1, 27), 0.6649745578927361), ((1, 28), 0.6150949516398924), ((1, 29), 0.2068694087235459), ((1, 30), 0.07058358235917579), ((1, 31), 0.36836079839148167), ((1, 32), 0.15196664528694923), ((1, 33), 0.6670804154174663), ((1, 34), 0.5107210584402821), ((1, 35), 0.15606727720892635), ((1, 36), 0.6695310769891173), ((1, 37), 0.6624096952767141), ((1, 38), 0.12968257458761964), ((1, 39), 0.07465933432389801)]), (1, [((0, 0), 0.16694538963878597), ((0, 1), 0.20920345206090987), ((0, 2), 0.164902021312164), ((0, 3), 0.27398761897917795), ((0, 4), 0.5150243988193132), ((0, 5), 0.5036424973250299), ((0, 6), 0.3260440147053897), ((0, 7), 0.5445636336064432), ((0, 8), 0.1117422947647967), ((0, 9), 0.711879865044662), ((0, 10), 0.14519326654956632), ((0, 11), 0.6226941174089913), ((0, 12), 0.4902690147660689), ((0, 13), 0.05702952555170809), ((0, 14), 0.5743850527000315), ((0, 15), 0.23229220784064936), ((0, 16), 0.09855246416032121), ((0, 17), 0.45022478682446393), ((0, 18), 0.07582532013706018), ((0, 19), 0.02454206050127365), ((0, 20), 0.13961858759492934), ((0, 21), 0.5172587186911953), ((0, 22), 0.6078479227828122), ((0, 23), 0.4881351799801644), ((0, 24), 0.4375749755600241), ((0, 25), 0.11437301172713976), ((0, 26), 0.2807112979213887), ((0, 27), 0.6912756738985085), ((0, 28), 0.712245394364807), ((0, 29), 0.18889735754295936), ((0, 30), 0.020230273323320586), ((0, 31), 0.41722784082720915), ((0, 32), 0.0015757426204681168), ((0, 33), 0.03714874514828267), ((0, 34), 0.4203332329690285), ((0, 35), 0.24134730735184362), ((0, 36), 0.5974837061516921), ((0, 37), 0.2615368542008189), ((0, 38), 0.39458959482242106), ((0, 39), 0.22784346002874367), ((1, 0), 0.12572328559256205), ((1, 1), 0.15754700029340027), ((1, 2), 0.12418446514202708), ((1, 3), 0.20633468072569264), ((1, 4), 0.38785473333523407), ((1, 5), 0.379283247442462), ((1, 6), 0.24553732729752364), ((1, 7), 0.41010014939232586), ((1, 8), 0.08415092185462131), ((1, 9), 0.5361027086417444), ((1, 10), 0.10934219001808941), ((1, 11), 0.46893867826602575), ((1, 12), 0.3692119410663752), ((1, 13), 0.0429478127168355), ((1, 14), 0.43255807289408166), ((1, 15), 0.17493468762728698), ((1, 16), 0.07421792014914189), ((1, 17), 0.33905542151989954), ((1, 18), 0.05710255550851274), ((1, 19), 0.01848214250245288), ((1, 20), 0.10514400906911495), ((1, 21), 0.3895373556344515), ((1, 22), 0.45775830143149093), ((1, 23), 0.36760499210674197), ((1, 24), 0.3295290977458066), ((1, 25), 0.08613206299715583), ((1, 26), 0.21139815094019365), ((1, 27), 0.5205860980095106), ((1, 28), 0.5363779815750579), ((1, 29), 0.14225488036200484), ((1, 30), 0.015235020482725077), ((1, 31), 0.3142060712367252), ((1, 32), 0.0011866607393119608), ((1, 33), 0.027975988470170784), ((1, 34), 0.31654468091002974), ((1, 35), 0.18175390476396946), ((1, 36), 0.4499532139697958), ((1, 37), 0.19695825494081565), ((1, 38), 0.29715765394330507), ((1, 39), 0.17158442325103995)])]\n",
            "join-part (0, [((0, 0), 0.7011604684448118), ((0, 1), 0.18975510935525958), ((0, 2), 0.23738178143124705), ((0, 3), 0.6512765707028215), ((0, 4), 0.10420419646816508), ((0, 5), 0.6278678661160831), ((0, 6), 0.30288538540262444), ((0, 7), 0.11149222375874322), ((0, 8), 0.18459529380932196), ((0, 9), 0.8332633170038758), ((0, 10), 0.8107711930894654), ((0, 11), 0.12358753376815662), ((0, 12), 0.8547137713123574), ((0, 13), 0.7598895526551793), ((0, 14), 0.5642155626363611), ((0, 15), 0.3258193990400772), ((0, 16), 0.049781148593306276), ((0, 17), 0.309088527818102), ((0, 18), 0.022356631090946624), ((0, 19), 0.02059045749555236), ((0, 20), 0.5163088527583863), ((0, 21), 0.13329130659548527), ((0, 22), 0.31482785150256604), ((0, 23), 0.7130666673162585), ((0, 24), 0.006212632115637883), ((0, 25), 0.4084514022245116), ((0, 26), 0.36253710261404776), ((0, 27), 0.0005851565850484897), ((0, 28), 0.4379022896972274), ((0, 29), 0.5364970273211388), ((0, 30), 0.39302944213270113), ((0, 31), 0.6793158817884254), ((0, 32), 0.06827575253901884), ((0, 33), 0.7056444468108177), ((0, 34), 0.25677866148732226), ((0, 35), 0.008041474779946663), ((0, 36), 0.29327950705082984), ((0, 37), 0.18983331761132236), ((0, 38), 0.07643483608657323), ((0, 39), 0.011744624811443817), ((1, 0), 0.3796273168049027), ((1, 1), 0.10273856878203058), ((1, 2), 0.12852494229030434), ((1, 3), 0.35261882002874356), ((1, 4), 0.0564189815104131), ((1, 5), 0.33994471172960805), ((1, 6), 0.16399037215382814), ((1, 7), 0.06036491738335209), ((1, 8), 0.09994490453672994), ((1, 9), 0.451151386112454), ((1, 10), 0.4389735394779884), ((1, 11), 0.06691364665638369), ((1, 12), 0.4627652445369553), ((1, 13), 0.4114248377156895), ((1, 14), 0.30548162622215663), ((1, 15), 0.17640746988334527), ((1, 16), 0.026952865597029158), ((1, 17), 0.16734892189661324), ((1, 18), 0.012104487140693893), ((1, 19), 0.011148232797778143), ((1, 20), 0.27954363264378945), ((1, 21), 0.07216753275965172), ((1, 22), 0.17045634758397488), ((1, 23), 0.3860736561727483), ((1, 24), 0.003363687724133596), ((1, 25), 0.22114668018237837), ((1, 26), 0.19628743162440193), ((1, 27), 0.00031681966438494764), ((1, 28), 0.23709219036436066), ((1, 29), 0.2904740585382292), ((1, 30), 0.21279681222346175), ((1, 31), 0.3678000644250448), ((1, 32), 0.03696634637248285), ((1, 33), 0.38205506444942355), ((1, 34), 0.13902693985215625), ((1, 35), 0.004353872802664614), ((1, 36), 0.15878948877782373), ((1, 37), 0.1027809128555163), ((1, 38), 0.041383895755458214), ((1, 39), 0.006358858784406264), ((0, 0), 0.1370580365028043), ((0, 1), 0.4550310782016065), ((0, 2), 0.32608771417751653), ((0, 3), 0.013656834653123421), ((0, 4), 0.6718178194739882), ((0, 5), 0.27866883016490523), ((0, 6), 0.09867037455051651), ((0, 7), 0.6558660527753061), ((0, 8), 0.13625408558169186), ((0, 9), 0.3945072789597715), ((0, 10), 0.6526187806042913), ((0, 11), 0.6516870652864589), ((0, 12), 0.4754997306600618), ((0, 13), 0.1883526619613448), ((0, 14), 0.5109723578367262), ((0, 15), 0.04657233319817994), ((0, 16), 0.03581783620579973), ((0, 17), 0.0013841460194901978), ((0, 18), 0.3249476623076367), ((0, 19), 0.22223503371286044), ((0, 20), 0.6306992868074326), ((0, 21), 0.34347688123178494), ((0, 22), 0.4431472488097849), ((0, 23), 0.1843440505576748), ((0, 24), 0.6013235581750537), ((0, 25), 0.4715420391506149), ((0, 26), 0.2734987876645345), ((0, 27), 0.7151832134719607), ((0, 28), 0.6615374661825146), ((0, 29), 0.22248900614903683), ((0, 30), 0.0759129693773049), ((0, 31), 0.3961737428655309), ((0, 32), 0.16344083006917876), ((0, 33), 0.7174480729824109), ((0, 34), 0.5492828611678107), ((0, 35), 0.16785107867255217), ((0, 36), 0.720083770840536), ((0, 37), 0.7124246918622714), ((0, 38), 0.13947420893635393), ((0, 39), 0.0802964594715453), ((1, 0), 0.12743602689812292), ((1, 1), 0.4230861188500635), ((1, 2), 0.30319508272120305), ((1, 3), 0.012698071507562013), ((1, 4), 0.6246535839682318), ((1, 5), 0.25910518961678475), ((1, 6), 0.09174332878327941), ((1, 7), 0.6098216936102794), ((1, 8), 0.12668851647245327), ((1, 9), 0.36681132676225137), ((1, 10), 0.6068023926317301), ((1, 11), 0.6059360873691251), ((1, 12), 0.4421177919414161), ((1, 13), 0.17512956925767628), ((1, 14), 0.4751001021099993), ((1, 15), 0.04330277346436499), ((1, 16), 0.03330328417525129), ((1, 17), 0.0012869735615034406), ((1, 18), 0.30213506694640907), ((1, 19), 0.20663326614457866), ((1, 20), 0.5864217329319059), ((1, 21), 0.3193634623143133), ((1, 22), 0.4120365807078919), ((1, 23), 0.17140237803491454), ((1, 24), 0.5591082952111547), ((1, 25), 0.43843794583737505), ((1, 26), 0.25429810429765276), ((1, 27), 0.6649745578927361), ((1, 28), 0.6150949516398924), ((1, 29), 0.2068694087235459), ((1, 30), 0.07058358235917579), ((1, 31), 0.36836079839148167), ((1, 32), 0.15196664528694923), ((1, 33), 0.6670804154174663), ((1, 34), 0.5107210584402821), ((1, 35), 0.15606727720892635), ((1, 36), 0.6695310769891173), ((1, 37), 0.6624096952767141), ((1, 38), 0.12968257458761964), ((1, 39), 0.07465933432389801)])\n",
            "join-part (1, [((0, 0), 0.16694538963878597), ((0, 1), 0.20920345206090987), ((0, 2), 0.164902021312164), ((0, 3), 0.27398761897917795), ((0, 4), 0.5150243988193132), ((0, 5), 0.5036424973250299), ((0, 6), 0.3260440147053897), ((0, 7), 0.5445636336064432), ((0, 8), 0.1117422947647967), ((0, 9), 0.711879865044662), ((0, 10), 0.14519326654956632), ((0, 11), 0.6226941174089913), ((0, 12), 0.4902690147660689), ((0, 13), 0.05702952555170809), ((0, 14), 0.5743850527000315), ((0, 15), 0.23229220784064936), ((0, 16), 0.09855246416032121), ((0, 17), 0.45022478682446393), ((0, 18), 0.07582532013706018), ((0, 19), 0.02454206050127365), ((0, 20), 0.13961858759492934), ((0, 21), 0.5172587186911953), ((0, 22), 0.6078479227828122), ((0, 23), 0.4881351799801644), ((0, 24), 0.4375749755600241), ((0, 25), 0.11437301172713976), ((0, 26), 0.2807112979213887), ((0, 27), 0.6912756738985085), ((0, 28), 0.712245394364807), ((0, 29), 0.18889735754295936), ((0, 30), 0.020230273323320586), ((0, 31), 0.41722784082720915), ((0, 32), 0.0015757426204681168), ((0, 33), 0.03714874514828267), ((0, 34), 0.4203332329690285), ((0, 35), 0.24134730735184362), ((0, 36), 0.5974837061516921), ((0, 37), 0.2615368542008189), ((0, 38), 0.39458959482242106), ((0, 39), 0.22784346002874367), ((1, 0), 0.12572328559256205), ((1, 1), 0.15754700029340027), ((1, 2), 0.12418446514202708), ((1, 3), 0.20633468072569264), ((1, 4), 0.38785473333523407), ((1, 5), 0.379283247442462), ((1, 6), 0.24553732729752364), ((1, 7), 0.41010014939232586), ((1, 8), 0.08415092185462131), ((1, 9), 0.5361027086417444), ((1, 10), 0.10934219001808941), ((1, 11), 0.46893867826602575), ((1, 12), 0.3692119410663752), ((1, 13), 0.0429478127168355), ((1, 14), 0.43255807289408166), ((1, 15), 0.17493468762728698), ((1, 16), 0.07421792014914189), ((1, 17), 0.33905542151989954), ((1, 18), 0.05710255550851274), ((1, 19), 0.01848214250245288), ((1, 20), 0.10514400906911495), ((1, 21), 0.3895373556344515), ((1, 22), 0.45775830143149093), ((1, 23), 0.36760499210674197), ((1, 24), 0.3295290977458066), ((1, 25), 0.08613206299715583), ((1, 26), 0.21139815094019365), ((1, 27), 0.5205860980095106), ((1, 28), 0.5363779815750579), ((1, 29), 0.14225488036200484), ((1, 30), 0.015235020482725077), ((1, 31), 0.3142060712367252), ((1, 32), 0.0011866607393119608), ((1, 33), 0.027975988470170784), ((1, 34), 0.31654468091002974), ((1, 35), 0.18175390476396946), ((1, 36), 0.4499532139697958), ((1, 37), 0.19695825494081565), ((1, 38), 0.29715765394330507), ((1, 39), 0.17158442325103995)])\n",
            "240 key-value pairs were sent over a network.\n",
            "[(0, [((0, 1), 0.853989639617776), ((0, 2), 0.7283715169209276), ((0, 4), 1.2910464147614664), ((0, 5), 1.4101791936060182), ((0, 8), 0.4325916741558105), ((0, 9), 1.9396504610083094), ((0, 11), 1.3979687164636068), ((0, 12), 1.8204825167384882), ((0, 15), 0.6046839400789065), ((0, 16), 0.1841514489594272), ((0, 18), 0.4231296135356435), ((0, 19), 0.26736755170968646), ((0, 22), 1.3658230230951631), ((0, 23), 1.3855458978540978), ((0, 25), 0.9943664531022662), ((0, 26), 0.916747188199971), ((0, 29), 0.947883391013135), ((0, 32), 0.23329232522866572), ((0, 33), 1.460241264941511), ((0, 36), 1.6108469840430581), ((0, 39), 0.3198845443117328), ((1, 0), 0.6327866292955877), ((1, 1), 0.6833716879254943), ((1, 3), 0.5716515722619983), ((1, 4), 1.068927298813879), ((1, 7), 1.0802867603859574), ((1, 10), 1.1551181221278077), ((1, 11), 1.1417884122915345), ((1, 14), 1.2131398012262375), ((1, 17), 0.5076913169780162), ((1, 18), 0.3713421095956157), ((1, 21), 0.7810683507084165), ((1, 24), 0.892001080681095), ((1, 25), 0.7457166890169092), ((1, 27), 1.1858774755666315), ((1, 28), 1.388565123579311), ((1, 31), 1.0503669340532518), ((1, 32), 0.190119652398744), ((1, 34), 0.9662926792024681), ((1, 35), 0.3421750547755604), ((1, 38), 0.46822412428638294), ((1, 39), 0.2526026163593442)]), (1, [((0, 0), 1.005163894586402), ((0, 3), 0.9389210243351229), ((0, 6), 0.7275997746585307), ((0, 7), 1.3119219101404926), ((0, 10), 1.608583240243323), ((0, 13), 1.0052717401682323), ((0, 14), 1.6495729731731186), ((0, 17), 0.7606974606620561), ((0, 20), 1.2866267271607483), ((0, 21), 0.9940269065184655), ((0, 24), 1.0451111658507157), ((0, 27), 1.4070440439555179), ((0, 28), 1.811685150244549), ((0, 30), 0.48917268483332665), ((0, 31), 1.4927174654811655), ((0, 34), 1.2263947556241614), ((0, 35), 0.41723986080434244), ((0, 37), 1.1637948636744126), ((0, 38), 0.6104986398453482), ((1, 2), 0.5559044901535345), ((1, 5), 0.9783331487888548), ((1, 6), 0.5012710282346312), ((1, 8), 0.3107843428638045), ((1, 9), 1.3540654215164496), ((1, 12), 1.2740949775447465), ((1, 13), 0.6295022196902013), ((1, 15), 0.3946449309749972), ((1, 16), 0.13447406992142233), ((1, 19), 0.2362636414448097), ((1, 20), 0.9711093746448103), ((1, 22), 1.0402512297233577), ((1, 23), 0.9250810263144047), ((1, 26), 0.6619836868622484), ((1, 29), 0.63959834762378), ((1, 30), 0.2986154150653626), ((1, 33), 1.0771114683370606), ((1, 36), 1.278273779736737), ((1, 37), 0.962148863073046)])]\n",
            "[((0, 1), 0.853989639617776), ((0, 2), 0.7283715169209276), ((0, 4), 1.2910464147614664), ((0, 5), 1.4101791936060182), ((0, 8), 0.4325916741558105), ((0, 9), 1.9396504610083094), ((0, 11), 1.3979687164636068), ((0, 12), 1.8204825167384882), ((0, 15), 0.6046839400789065), ((0, 16), 0.1841514489594272), ((0, 18), 0.4231296135356435), ((0, 19), 0.26736755170968646), ((0, 22), 1.3658230230951631), ((0, 23), 1.3855458978540978), ((0, 25), 0.9943664531022662), ((0, 26), 0.916747188199971), ((0, 29), 0.947883391013135), ((0, 32), 0.23329232522866572), ((0, 33), 1.460241264941511), ((0, 36), 1.6108469840430581), ((0, 39), 0.3198845443117328), ((1, 0), 0.6327866292955877), ((1, 1), 0.6833716879254943), ((1, 3), 0.5716515722619983), ((1, 4), 1.068927298813879), ((1, 7), 1.0802867603859574), ((1, 10), 1.1551181221278077), ((1, 11), 1.1417884122915345), ((1, 14), 1.2131398012262375), ((1, 17), 0.5076913169780162), ((1, 18), 0.3713421095956157), ((1, 21), 0.7810683507084165), ((1, 24), 0.892001080681095), ((1, 25), 0.7457166890169092), ((1, 27), 1.1858774755666315), ((1, 28), 1.388565123579311), ((1, 31), 1.0503669340532518), ((1, 32), 0.190119652398744), ((1, 34), 0.9662926792024681), ((1, 35), 0.3421750547755604), ((1, 38), 0.46822412428638294), ((1, 39), 0.2526026163593442), ((0, 0), 1.005163894586402), ((0, 3), 0.9389210243351229), ((0, 6), 0.7275997746585307), ((0, 7), 1.3119219101404926), ((0, 10), 1.608583240243323), ((0, 13), 1.0052717401682323), ((0, 14), 1.6495729731731186), ((0, 17), 0.7606974606620561), ((0, 20), 1.2866267271607483), ((0, 21), 0.9940269065184655), ((0, 24), 1.0451111658507157), ((0, 27), 1.4070440439555179), ((0, 28), 1.811685150244549), ((0, 30), 0.48917268483332665), ((0, 31), 1.4927174654811655), ((0, 34), 1.2263947556241614), ((0, 35), 0.41723986080434244), ((0, 37), 1.1637948636744126), ((0, 38), 0.6104986398453482), ((1, 2), 0.5559044901535345), ((1, 5), 0.9783331487888548), ((1, 6), 0.5012710282346312), ((1, 8), 0.3107843428638045), ((1, 9), 1.3540654215164496), ((1, 12), 1.2740949775447465), ((1, 13), 0.6295022196902013), ((1, 15), 0.3946449309749972), ((1, 16), 0.13447406992142233), ((1, 19), 0.2362636414448097), ((1, 20), 0.9711093746448103), ((1, 22), 1.0402512297233577), ((1, 23), 0.9250810263144047), ((1, 26), 0.6619836868622484), ((1, 29), 0.63959834762378), ((1, 30), 0.2986154150653626), ((1, 33), 1.0771114683370606), ((1, 36), 1.278273779736737), ((1, 37), 0.962148863073046)]\n"
          ]
        },
        {
          "data": {
            "text/plain": [
              "True"
            ]
          },
          "execution_count": 181,
          "metadata": {},
          "output_type": "execute_result"
        }
      ],
      "source": [
        "I = 2\n",
        "J = 3\n",
        "K = 4*10\n",
        "\n",
        "small_mat = np.random.rand(I, J)\n",
        "big_mat = np.random.rand(J, K)\n",
        "\n",
        "reference_solution = np.matmul(small_mat, big_mat)\n",
        "\n",
        "def flatten(nested_iterable):\n",
        "  for iterable in nested_iterable:\n",
        "    for element in iterable:\n",
        "      yield element\n",
        "\n",
        "def groupbykey(iterable):\n",
        "  t = {}\n",
        "  for (k2, v2) in iterable:\n",
        "    t[k2] = t.get(k2, []) + [v2]\n",
        "  return t.items()\n",
        "\n",
        "def groupbykey_distributed(map_partitions, PARTITIONER):\n",
        "  global reducers\n",
        "  partitions = [dict() for _ in range(reducers)]\n",
        "  for map_partition in map_partitions:\n",
        "    for (k2, v2) in map_partition:\n",
        "      p = partitions[PARTITIONER(k2)]\n",
        "      p[k2] = p.get(k2, []) + [v2]\n",
        "  return [(partition_id, sorted(partition.items(), key=lambda x: x[0])) for (partition_id, partition) in enumerate(partitions)]\n",
        "\n",
        "def PARTITIONER(obj):\n",
        "  global reducers\n",
        "  return hash(obj) % reducers\n",
        "\n",
        "def MapReduceDistributed(INPUTFORMAT, MAP, REDUCE, PARTITIONER=PARTITIONER, COMBINER=None):\n",
        "  map_partitions = map(lambda record_reader: flatten(map(lambda k1v1: MAP(*k1v1), record_reader)), INPUTFORMAT())\n",
        "\n",
        "  if COMBINER != None:\n",
        "    map_partitions = map(lambda map_partition: flatten(map(lambda k2v2: COMBINER(*k2v2), groupbykey(map_partition))), map_partitions)\n",
        "\n",
        "  reduce_partitions = groupbykey_distributed(map_partitions, PARTITIONER)  # shuffle\n",
        "\n",
        "  reduce_outputs = map(lambda reduce_partition: (reduce_partition[0], flatten(map(lambda reduce_input_group: REDUCE(*reduce_input_group), reduce_partition[1]))), reduce_partitions)\n",
        "\n",
        "  print(\"{} key-value pairs were sent over a network.\".format(sum([len(vs) for (k,vs) in flatten([partition for (partition_id, partition) in reduce_partitions])])))\n",
        "  return reduce_outputs\n",
        "\n",
        "def asmatrix(reduce_output):\n",
        "  reduce_output = list(reduce_output)\n",
        "  I = max(i for ((i,k), vw) in reduce_output) + 1\n",
        "  K = max(k for ((i,k), vw) in reduce_output) + 1\n",
        "  mat = np.empty(shape=(I,K))\n",
        "  for ((i,k), vw) in reduce_output:\n",
        "    mat[i,k] = vw\n",
        "  return mat\n",
        "\n",
        "def INPUTFORMAT():\n",
        "  first_mat = []\n",
        "\n",
        "  for i in range(small_mat.shape[0]):\n",
        "    for j in range(small_mat.shape[1]):\n",
        "      first_mat.append(((0, i, j), small_mat[i,j]))\n",
        "\n",
        "  global maps\n",
        "  split_size = int(np.ceil(len(first_mat)/maps))\n",
        "\n",
        "  for i in range(0, len(first_mat), split_size):\n",
        "    yield first_mat[i:i+split_size]\n",
        "\n",
        "  second_mat = []\n",
        "\n",
        "  for j in range(big_mat.shape[0]):\n",
        "    for k in range(big_mat.shape[1]):\n",
        "      second_mat.append(((1, j, k), big_mat[j,k]))\n",
        "\n",
        "  split_size = int(np.ceil(len(second_mat)/maps))\n",
        "\n",
        "  for i in range(0, len(second_mat), split_size):\n",
        "    yield second_mat[i:i+split_size]\n",
        "\n",
        "def MAP_JOIN(k1, v1):\n",
        "  (mat_num, i, j) = k1\n",
        "  w = v1\n",
        "\n",
        "  if mat_num == 0:\n",
        "    yield (j, (mat_num, i, w))\n",
        "\n",
        "  else:\n",
        "    yield (i, (mat_num, j, w))\n",
        "\n",
        "def REDUCE_JOIN(key, values):\n",
        "  from_first_mat = [v for v in values if v[0] == 0]\n",
        "  from_second_mat = [v for v in values if v[0] == 1]\n",
        "\n",
        "  for f in from_first_mat:\n",
        "    for s in from_second_mat:\n",
        "      yield ((f[1], s[1]), f[2] * s[2])\n",
        "\n",
        "def GET_JOINED():\n",
        "\n",
        "  for j in joined:\n",
        "    print(\"join-part\", j)\n",
        "    yield j[1]\n",
        "\n",
        "def MAP_MUL(k1, v1):\n",
        "  yield (k1, v1)\n",
        "\n",
        "def REDUCE_MUL(key, values):\n",
        "  res_val = 0\n",
        "\n",
        "  for v in values:\n",
        "    res_val += v\n",
        "  yield (key, res_val)\n",
        "\n",
        "maps = 3\n",
        "reducers = 2\n",
        "\n",
        "partitioned_output = MapReduceDistributed(INPUTFORMAT, MAP_JOIN, REDUCE_JOIN, COMBINER=None)\n",
        "joined = [(partition_id, list(partition)) for (partition_id, partition) in partitioned_output]\n",
        "print(joined)\n",
        "\n",
        "mul_output = MapReduceDistributed(GET_JOINED, MAP_MUL, REDUCE_MUL, COMBINER=None)\n",
        "pre_result = [(partition_id, list(partition)) for (partition_id, partition) in mul_output]\n",
        "print(pre_result)\n",
        "\n",
        "solution = []\n",
        "\n",
        "for p in pre_result:\n",
        "\n",
        "  for v in p[1]:\n",
        "    solution.append(v)\n",
        "\n",
        "print(solution)\n",
        "\n",
        "np.allclose(reference_solution, asmatrix(solution))"
      ]
    },
    {
      "cell_type": "code",
      "execution_count": null,
      "metadata": {
        "id": "Uoq13qZlRL6C"
      },
      "outputs": [],
      "source": []
    }
  ],
  "metadata": {
    "colab": {
      "collapsed_sections": [
        "QtTFyqke3KGe",
        "BNhh5763w5Vn"
      ],
      "provenance": []
    },
    "kernelspec": {
      "display_name": "Python 3",
      "name": "python3"
    }
  },
  "nbformat": 4,
  "nbformat_minor": 0
}
