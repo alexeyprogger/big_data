{
  "cells": [
    {
      "cell_type": "markdown",
      "metadata": {
        "id": "Tf0cyl6FqTTF"
      },
      "source": [
        "Подготовка"
      ]
    },
    {
      "cell_type": "code",
      "execution_count": 13,
      "metadata": {
        "colab": {
          "base_uri": "https://localhost:8080/"
        },
        "id": "Jn7vo-iunJ2m",
        "outputId": "4d4b6b3d-c598-44d9-f3f5-0f6bc624740f"
      },
      "outputs": [
        {
          "name": "stdout",
          "output_type": "stream",
          "text": [
            "+---+--------------------+------------------+-------------------+----------+--------+-----------------+\n",
            "| id|                name|               lat|               long|dock_count|    city|installation_date|\n",
            "+---+--------------------+------------------+-------------------+----------+--------+-----------------+\n",
            "|  2|San Jose Diridon ...|         37.329732|-121.90178200000001|        27|San Jose|         8/6/2013|\n",
            "|  3|San Jose Civic Ce...|         37.330698|        -121.888979|        15|San Jose|         8/5/2013|\n",
            "|  4|Santa Clara at Al...|         37.333988|        -121.894902|        11|San Jose|         8/6/2013|\n",
            "|  5|    Adobe on Almaden|         37.331415|          -121.8932|        19|San Jose|         8/5/2013|\n",
            "|  6|    San Pedro Square|37.336721000000004|        -121.894074|        15|San Jose|         8/7/2013|\n",
            "+---+--------------------+------------------+-------------------+----------+--------+-----------------+\n",
            "only showing top 5 rows\n",
            "\n",
            "+----+--------+---------------+--------------------+----------------+---------------+--------------------+--------------+-------+-----------------+--------+\n",
            "|  id|duration|     start_date|  start_station_name|start_station_id|       end_date|    end_station_name|end_station_id|bike_id|subscription_type|zip_code|\n",
            "+----+--------+---------------+--------------------+----------------+---------------+--------------------+--------------+-------+-----------------+--------+\n",
            "|4576|      63|8/29/2013 14:13|South Van Ness at...|              66|8/29/2013 14:14|South Van Ness at...|            66|    520|       Subscriber|   94127|\n",
            "|4607|      70|8/29/2013 14:42|  San Jose City Hall|              10|8/29/2013 14:43|  San Jose City Hall|            10|    661|       Subscriber|   95138|\n",
            "|4130|      71|8/29/2013 10:16|Mountain View Cit...|              27|8/29/2013 10:17|Mountain View Cit...|            27|     48|       Subscriber|   97214|\n",
            "|4251|      77|8/29/2013 11:29|  San Jose City Hall|              10|8/29/2013 11:30|  San Jose City Hall|            10|     26|       Subscriber|   95060|\n",
            "|4299|      83|8/29/2013 12:02|South Van Ness at...|              66|8/29/2013 12:04|      Market at 10th|            67|    319|       Subscriber|   94103|\n",
            "+----+--------+---------------+--------------------+----------------+---------------+--------------------+--------------+-------+-----------------+--------+\n",
            "only showing top 5 rows\n",
            "\n"
          ]
        }
      ],
      "source": [
        "from pyspark.sql import SparkSession\n",
        "from pyspark.sql import functions as F\n",
        "\n",
        "# Функция для преобразования колонок в тип double\n",
        "def convert_columns_to_double(df, column_names):\n",
        "    for column in column_names:\n",
        "        df = df.withColumn(column, F.col(column).cast(\"double\"))\n",
        "    return df\n",
        "\n",
        "# Чтение CSV-файлов\n",
        "def load_csv_data(spark, file_path):\n",
        "    try:\n",
        "        return spark.read.option(\"header\", \"true\").option(\"inferSchema\", \"true\").csv(file_path)\n",
        "    except Exception as e:\n",
        "        print(f\"Ошибка при чтении: {file_path}: {e}\")\n",
        "        return None\n",
        "\n",
        "# Инициализация Spark-сессии\n",
        "def init_spark_session(app_name):\n",
        "    return SparkSession.builder \\\n",
        "        .appName(app_name) \\\n",
        "        .config(\"spark.sql.legacy.timeParserPolicy\", \"LEGACY\") \\\n",
        "        .getOrCreate()\n",
        "\n",
        "spark = init_spark_session(\"BikeAnalysis\")\n",
        "\n",
        "trips_df = load_csv_data(spark, \"data/trips.csv\")\n",
        "stations_df = load_csv_data(spark, \"data/stations.csv\")\n",
        "\n",
        "if trips_df is None or stations_df is None:\n",
        "    print(\"При загрузке данных произошла ошибка!\")\n",
        "    spark.stop()\n",
        "    exit()\n",
        "\n",
        "# Приведение координат станций к типу double\n",
        "stations_df = convert_columns_to_double(stations_df, [\"lat\", \"long\"])\n",
        "\n",
        "stations_df.show(5)\n",
        "trips_df.show(5)\n"
      ]
    },
    {
      "cell_type": "markdown",
      "metadata": {
        "id": "6SmiyjrhqaNy"
      },
      "source": [
        "Задание 1. Найти велосипед с максимальным временем пробега."
      ]
    },
    {
      "cell_type": "code",
      "execution_count": 14,
      "metadata": {
        "colab": {
          "base_uri": "https://localhost:8080/"
        },
        "id": "wko-jeRVpElL",
        "outputId": "1553ab0d-8c9d-4988-a0d8-cba26b5c5f4c"
      },
      "outputs": [
        {
          "name": "stdout",
          "output_type": "stream",
          "text": [
            "+-------+----------------------+\n",
            "|bike_id|total_duration_minutes|\n",
            "+-------+----------------------+\n",
            "|    535|              310262.0|\n",
            "+-------+----------------------+\n",
            "\n"
          ]
        }
      ],
      "source": [
        "from pyspark.sql.functions import unix_timestamp\n",
        "\n",
        "try:\n",
        "    trips_with_duration = trips_df.withColumn(\n",
        "        \"start_timestamp\", unix_timestamp(\"start_date\", \"M/d/yyyy H:mm\").cast(\"long\")\n",
        "    ).withColumn(\n",
        "        \"end_timestamp\", unix_timestamp(\"end_date\", \"M/d/yyyy H:mm\").cast(\"long\")\n",
        "    ).withColumn(\n",
        "        \"duration_minutes\", (F.col(\"end_timestamp\") - F.col(\"start_timestamp\")) / 60\n",
        "    )\n",
        "except Exception as e:\n",
        "    print(f\"Ошибка при преобразовании дат: {e}. Убедитесь в корректности формата даты.\")\n",
        "    spark.stop()\n",
        "    exit()\n",
        "\n",
        "# Нахождение велосипеда с максимальным значением времени\n",
        "bike_max_duration = trips_with_duration.groupBy(\"bike_id\").agg(\n",
        "    F.sum(\"duration_minutes\").alias(\"total_duration_minutes\")\n",
        ").orderBy(F.col(\"total_duration_minutes\").desc()).limit(1)\n",
        "\n",
        "bike_max_duration.show()"
      ]
    },
    {
      "cell_type": "markdown",
      "metadata": {
        "id": "4UQVsyH8xDQ8"
      },
      "source": [
        "Задание 2. Найти наибольшее геодезическое расстояние между станциями.\n"
      ]
    },
    {
      "cell_type": "code",
      "execution_count": 16,
      "metadata": {
        "colab": {
          "base_uri": "https://localhost:8080/"
        },
        "id": "MTaf0ALapKos",
        "outputId": "ecfbb18b-b91f-46c4-8b36-13b8e5eaa0ed"
      },
      "outputs": [
        {
          "name": "stdout",
          "output_type": "stream",
          "text": [
            "Максимальное геодезическое расстояние между станциями: 69.92 км\n"
          ]
        }
      ],
      "source": [
        "from pyspark.sql.functions import max, radians, sin, cos, sqrt, atan2, col, unix_timestamp, sum as spark_sum\n",
        "\n",
        "# Функция для вычисления геодезического расстояния между двумя точками\n",
        "def haversine(lat1, lon1, lat2, lon2):\n",
        "    R = 6371.0\n",
        "    dlat = radians(lat2) - radians(lat1)\n",
        "    dlon = radians(lon2) - radians(lon1)\n",
        "    a = sin(dlat / 2)**2 + cos(radians(lat1)) * cos(radians(lat2)) * sin(dlon / 2)**2\n",
        "    c = 2 * atan2(sqrt(a), sqrt(1 - a))\n",
        "    return R * c\n",
        "\n",
        "# Регистрируем функцию haversine\n",
        "spark.udf.register(\"haversine\", haversine)\n",
        "\n",
        "# Поиск всех пар станций, для которых вычисляется расстояние\n",
        "station_pairs = stations_df.alias(\"station1\").crossJoin(stations_df.alias(\"station2\")).filter(col(\"station1.id\") < col(\"station2.id\"))\n",
        "# Добавляем колонку с расстоянием между станциями\n",
        "station_pairs = station_pairs.withColumn(\"distance\", haversine(col(\"station1.lat\"), col(\"station1.long\"), col(\"station2.lat\"), col(\"station2.long\")))\n",
        "\n",
        "max_distance = station_pairs.agg(max(\"distance\").alias(\"max_distance\")).collect()[0][\"max_distance\"]\n",
        "\n",
        "print(f\"Максимальное геодезическое расстояние между станциями: {max_distance:.2f} км\")"
      ]
    },
    {
      "cell_type": "markdown",
      "metadata": {
        "id": "ufNrPp0exVWL"
      },
      "source": [
        "Задание 3. Найти путь велосипеда с максимальным временем пробега через станции.\n"
      ]
    },
    {
      "cell_type": "code",
      "execution_count": 17,
      "metadata": {
        "colab": {
          "base_uri": "https://localhost:8080/"
        },
        "id": "L0F1hnsSpKrb",
        "outputId": "20fa7b5a-d27f-4299-b0ba-41d4691906ec"
      },
      "outputs": [
        {
          "name": "stdout",
          "output_type": "stream",
          "text": [
            "+---------------+---------------------------------------------+---------------+---------------------------------------------+\n",
            "|start_date     |start_station_name                           |end_date       |end_station_name                             |\n",
            "+---------------+---------------------------------------------+---------------+---------------------------------------------+\n",
            "|1/1/2014 13:42 |Mechanics Plaza (Market at Battery)          |1/1/2014 14:36 |Embarcadero at Sansome                       |\n",
            "|1/1/2014 18:51 |Embarcadero at Sansome                       |1/1/2014 19:13 |Market at 4th                                |\n",
            "|1/1/2014 19:48 |Market at 4th                                |1/1/2014 20:01 |South Van Ness at Market                     |\n",
            "|1/10/2014 20:13|Market at 10th                               |1/10/2014 20:17|Powell Street BART                           |\n",
            "|1/10/2014 8:09 |Embarcadero at Folsom                        |1/10/2014 8:19 |San Francisco Caltrain (Townsend at 4th)     |\n",
            "|1/10/2014 8:21 |San Francisco Caltrain (Townsend at 4th)     |1/10/2014 8:31 |Temporary Transbay Terminal (Howard at Beale)|\n",
            "|1/10/2014 9:19 |Temporary Transbay Terminal (Howard at Beale)|1/10/2014 9:32 |Market at 10th                               |\n",
            "|1/11/2014 19:06|Powell Street BART                           |1/11/2014 19:11|Market at 10th                               |\n",
            "|1/12/2014 12:21|Market at 10th                               |1/12/2014 12:29|Market at 4th                                |\n",
            "|1/12/2014 17:36|Market at 4th                                |1/12/2014 17:58|San Francisco Caltrain (Townsend at 4th)     |\n",
            "|1/13/2014 17:04|Davis at Jackson                             |1/13/2014 17:06|Beale at Market                              |\n",
            "|1/13/2014 18:09|Beale at Market                              |1/13/2014 18:13|Davis at Jackson                             |\n",
            "|1/13/2014 6:43 |San Francisco Caltrain (Townsend at 4th)     |1/13/2014 6:54 |Embarcadero at Vallejo                       |\n",
            "|1/13/2014 8:20 |San Francisco Caltrain (Townsend at 4th)     |1/13/2014 8:31 |Market at Sansome                            |\n",
            "|1/13/2014 8:52 |Market at Sansome                            |1/13/2014 8:56 |Davis at Jackson                             |\n",
            "|1/14/2014 11:52|Howard at 2nd                                |1/14/2014 11:55|2nd at South Park                            |\n",
            "|1/14/2014 13:12|2nd at South Park                            |1/14/2014 13:14|2nd at Folsom                                |\n",
            "|1/14/2014 13:20|2nd at Folsom                                |1/14/2014 14:02|2nd at South Park                            |\n",
            "|1/14/2014 16:22|2nd at South Park                            |1/14/2014 16:26|San Francisco Caltrain (Townsend at 4th)     |\n",
            "|1/14/2014 20:23|San Francisco Caltrain (Townsend at 4th)     |1/14/2014 20:29|Embarcadero at Bryant                        |\n",
            "+---------------+---------------------------------------------+---------------+---------------------------------------------+\n",
            "only showing top 20 rows\n",
            "\n"
          ]
        }
      ],
      "source": [
        "try:\n",
        "    trips_with_duration = trips_df.withColumn(\n",
        "        \"start_timestamp\", unix_timestamp(col(\"start_date\"), \"M/d/yyyy H:mm\").cast(\"long\")\n",
        "    ).withColumn(\n",
        "        \"end_timestamp\", unix_timestamp(col(\"end_date\"), \"M/d/yyyy H:mm\").cast(\"long\")\n",
        "    ).withColumn(\n",
        "        \"duration_minutes\", (col(\"end_timestamp\") - col(\"start_timestamp\")) / 60\n",
        "    )\n",
        "except Exception as e:\n",
        "    print(f\"Ошибка при преобразовании дат: {e}. Убедитесь в корректности формата даты в файле trips.csv.\")\n",
        "    spark.stop()\n",
        "    exit()\n",
        "\n",
        "# Нахождение велосипеда с максимальным временем пробега\n",
        "bike_max_duration = trips_with_duration.groupBy(\"bike_id\").agg(\n",
        "    spark_sum(\"duration_minutes\").alias(\"total_duration_minutes\")\n",
        ").orderBy(col(\"total_duration_minutes\").desc()).limit(1)\n",
        "\n",
        "# Получаем bike_id с максимальным временем пробега\n",
        "max_bike_duration = bike_max_duration.collect()\n",
        "if not max_bike_duration:\n",
        "    print(\"Не удалось найти велосипед с максимальным временем пробега.\")\n",
        "    spark.stop()\n",
        "    exit()\n",
        "\n",
        "bike_id_max = max_bike_duration[0][\"bike_id\"]\n",
        "\n",
        "# Отбираем поездки для этого велосипеда и сортируем по времени начала\n",
        "bike_trips = trips_with_duration.filter(col(\"bike_id\") == bike_id_max) \\\n",
        "    .select(\"start_date\", \"start_station_name\", \"end_date\", \"end_station_name\") \\\n",
        "    .orderBy(\"start_date\")\n",
        "\n",
        "bike_trips.show(truncate=False)"
      ]
    },
    {
      "cell_type": "markdown",
      "metadata": {
        "id": "nMPiwDuuyZzz"
      },
      "source": [
        "Задание 4. Найти количество велосипедов в системе."
      ]
    },
    {
      "cell_type": "code",
      "execution_count": 18,
      "metadata": {
        "colab": {
          "base_uri": "https://localhost:8080/"
        },
        "id": "LhmFN2HgpSdL",
        "outputId": "574eb469-3a63-4b5d-ea89-1f5a9e6a6b4c"
      },
      "outputs": [
        {
          "name": "stdout",
          "output_type": "stream",
          "text": [
            "Количество уникальных велосипедов в системе: 700\n"
          ]
        }
      ],
      "source": [
        "total_bikes = trips_df.select(\"bike_id\").distinct().count()\n",
        "print(f\"Количество уникальных велосипедов в системе: {total_bikes}\")"
      ]
    },
    {
      "cell_type": "markdown",
      "metadata": {
        "id": "PTEhwFd-ydI7"
      },
      "source": [
        "Задание 5. Найти пользователей потративших на поездки более 3 часов.\n"
      ]
    },
    {
      "cell_type": "code",
      "execution_count": 19,
      "metadata": {
        "colab": {
          "base_uri": "https://localhost:8080/"
        },
        "id": "AOiLaEHmpSfS",
        "outputId": "b77112f9-b8f4-4ea6-db37-e896192a86dc"
      },
      "outputs": [
        {
          "name": "stdout",
          "output_type": "stream",
          "text": [
            "+--------+-----------------------+\n",
            "|zip_code|total_trip_time_minutes|\n",
            "+--------+-----------------------+\n",
            "|   94102|               318746.0|\n",
            "|   95134|                12114.0|\n",
            "|   84606|                 1583.0|\n",
            "|   80305|                 3010.0|\n",
            "|   60070|                  483.0|\n",
            "|   95519|                  505.0|\n",
            "|   43085|                  194.0|\n",
            "|   91910|                  840.0|\n",
            "|   77339|                  230.0|\n",
            "|   48063|                  228.0|\n",
            "|   85022|                  209.0|\n",
            "|    1090|                  340.0|\n",
            "|    2136|                  266.0|\n",
            "|   11722|                  405.0|\n",
            "|   95138|                 2583.0|\n",
            "|   94610|                60490.0|\n",
            "|   94404|                59813.0|\n",
            "|   80301|                 2537.0|\n",
            "|   91326|                 1096.0|\n",
            "|   90742|                  183.0|\n",
            "+--------+-----------------------+\n",
            "only showing top 20 rows\n",
            "\n"
          ]
        }
      ],
      "source": [
        "filtered_users = trips_with_duration.filter(F.col(\"zip_code\").isNotNull())\n",
        "user_trip_time = filtered_users.groupBy(\"zip_code\").agg(\n",
        "    F.sum(\"duration_minutes\").alias(\"total_trip_time_minutes\")\n",
        ")\n",
        "active_users = user_trip_time.filter(F.col(\"total_trip_time_minutes\") > 180)\n",
        "active_users.select(\"zip_code\", \"total_trip_time_minutes\").show()"
      ]
    },
    {
      "cell_type": "code",
      "execution_count": 20,
      "metadata": {
        "id": "sLHO9QIopiRD"
      },
      "outputs": [],
      "source": [
        "spark.stop()\n"
      ]
    }
  ],
  "metadata": {
    "colab": {
      "provenance": []
    },
    "kernelspec": {
      "display_name": "Python 3",
      "name": "python3"
    },
    "language_info": {
      "name": "python"
    }
  },
  "nbformat": 4,
  "nbformat_minor": 0
}
